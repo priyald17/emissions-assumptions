{
 "cells": [
  {
   "cell_type": "markdown",
   "metadata": {},
   "source": [
    "# <center> PJM contribution to US emissions (2017) </center> "
   ]
  },
  {
   "cell_type": "code",
   "execution_count": 1,
   "metadata": {
    "collapsed": true
   },
   "outputs": [],
   "source": [
    "import pandas as pd\n",
    "import os"
   ]
  },
  {
   "cell_type": "code",
   "execution_count": 2,
   "metadata": {
    "collapsed": false
   },
   "outputs": [
    {
     "data": {
      "text/plain": [
       "so2_lbs      2.594047e+09\n",
       "nox_lbs      2.066229e+09\n",
       "pm25_tons    2.314747e+05\n",
       "co2_tons     1.873265e+09\n",
       "dtype: float64"
      ]
     },
     "execution_count": 2,
     "metadata": {},
     "output_type": "execute_result"
    }
   ],
   "source": [
    "nerc_df = pd.read_csv(os.path.join(os.pardir, 'data', 'cems', 'raw_data', 'emit_agg_by_nerc.csv'),\n",
    "                     index_col=0, parse_dates=[0])\n",
    "nerc_emit_sum = nerc_df[nerc_df.index.year == 2017][['so2_lbs', 'nox_lbs', 'pm25_tons', 'co2_tons']].sum()\n",
    "nerc_emit_sum"
   ]
  },
  {
   "cell_type": "code",
   "execution_count": 3,
   "metadata": {
    "collapsed": false
   },
   "outputs": [
    {
     "data": {
      "text/plain": [
       "so2_lbs      4.880795e+08\n",
       "nox_lbs      3.678589e+08\n",
       "pm25_tons    4.375743e+04\n",
       "co2_tons     3.441563e+08\n",
       "dtype: float64"
      ]
     },
     "execution_count": 3,
     "metadata": {},
     "output_type": "execute_result"
    }
   ],
   "source": [
    "isorto_df = pd.read_csv(os.path.join(os.pardir, 'data', 'cems', 'raw_data', 'emit_agg_by_isorto.csv'),\n",
    "                     index_col=0, parse_dates=[0])\n",
    "pjm_emit_sum = isorto_df[(isorto_df.index.year == 2017) & (isorto_df['isorto'] == 'PJM')][['so2_lbs', 'nox_lbs', 'pm25_tons', 'co2_tons']].sum()\n",
    "pjm_emit_sum"
   ]
  },
  {
   "cell_type": "code",
   "execution_count": 4,
   "metadata": {
    "collapsed": false
   },
   "outputs": [
    {
     "data": {
      "text/plain": [
       "so2_lbs      18.815368\n",
       "nox_lbs      17.803393\n",
       "pm25_tons    18.903766\n",
       "co2_tons     18.372006\n",
       "dtype: float64"
      ]
     },
     "execution_count": 4,
     "metadata": {},
     "output_type": "execute_result"
    }
   ],
   "source": [
    "(pjm_emit_sum / nerc_emit_sum) * 100"
   ]
  }
 ],
 "metadata": {
  "anaconda-cloud": {},
  "kernelspec": {
   "display_name": "py35",
   "language": "python",
   "name": "py35"
  },
  "language_info": {
   "codemirror_mode": {
    "name": "ipython",
    "version": 3
   },
   "file_extension": ".py",
   "mimetype": "text/x-python",
   "name": "python",
   "nbconvert_exporter": "python",
   "pygments_lexer": "ipython3",
   "version": "3.5.2"
  }
 },
 "nbformat": 4,
 "nbformat_minor": 0
}

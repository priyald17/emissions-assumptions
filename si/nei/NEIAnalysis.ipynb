{
 "cells": [
  {
   "cell_type": "code",
   "execution_count": 1,
   "metadata": {
    "collapsed": true
   },
   "outputs": [],
   "source": [
    "import pandas as pd\n",
    "import numpy as np\n",
    "import matplotlib.pyplot as plt\n",
    "%matplotlib inline"
   ]
  },
  {
   "cell_type": "code",
   "execution_count": 2,
   "metadata": {
    "collapsed": true
   },
   "outputs": [],
   "source": [
    "METTON_PER_TON = 0.907185\n",
    "KG_PER_METTON = 1000"
   ]
  },
  {
   "cell_type": "markdown",
   "metadata": {},
   "source": [
    "## Analyze PM 2.5 rates "
   ]
  },
  {
   "cell_type": "markdown",
   "metadata": {},
   "source": [
    "Note: PJM has ~1400 electricity generators (https://www.pjm.com/~/media/about-pjm/newsroom/fact-sheets/pjm-at-a-glance.ashx) "
   ]
  },
  {
   "cell_type": "markdown",
   "metadata": {},
   "source": [
    "### Get 2008/2011/2014 rates and their ratio"
   ]
  },
  {
   "cell_type": "code",
   "execution_count": 3,
   "metadata": {
    "collapsed": true
   },
   "outputs": [],
   "source": [
    "plant2008 = pd.read_csv('plant_pm_rates2008.csv', index_col='orispl').sort_index()\n",
    "plant2011 = pd.read_csv('plant_pm_rates2011.csv', index_col='orispl').sort_index()\n",
    "plant2014 = pd.read_csv('plant_pm_rates2014.csv', index_col='orispl').sort_index()"
   ]
  },
  {
   "cell_type": "code",
   "execution_count": 4,
   "metadata": {
    "collapsed": false
   },
   "outputs": [
    {
     "name": "stdout",
     "output_type": "stream",
     "text": [
      "789\n",
      "786\n",
      "432\n"
     ]
    }
   ],
   "source": [
    "print(len(plant2008))\n",
    "print(len(plant2011))\n",
    "print(len(plant2014))"
   ]
  },
  {
   "cell_type": "code",
   "execution_count": 5,
   "metadata": {
    "collapsed": false
   },
   "outputs": [],
   "source": [
    "df = pd.concat([plant2008['pmrate'], plant2011['pmrate'], plant2014['pmrate']], axis=1)\n",
    "df.columns = ['pmrate2008', 'pmrate2011', 'pmrate2014']\n",
    "df['ratio2014-2011'] = (df['pmrate2014'] / df['pmrate2011'])\n",
    "df['ratio2011-2008'] = (df['pmrate2011'] / df['pmrate2008'])\n",
    "df['ratio2014-2008'] = (df['pmrate2014'] / df['pmrate2008'])"
   ]
  },
  {
   "cell_type": "code",
   "execution_count": 6,
   "metadata": {
    "collapsed": false
   },
   "outputs": [
    {
     "data": {
      "text/plain": [
       "count    429.000000\n",
       "mean       1.473668\n",
       "std        5.241565\n",
       "min        0.008394\n",
       "25%        0.656447\n",
       "50%        0.972833\n",
       "75%        1.145010\n",
       "max       98.302996\n",
       "Name: ratio2014-2011, dtype: float64"
      ]
     },
     "execution_count": 6,
     "metadata": {},
     "output_type": "execute_result"
    }
   ],
   "source": [
    "df['ratio2014-2011'].describe()"
   ]
  },
  {
   "cell_type": "code",
   "execution_count": 7,
   "metadata": {
    "collapsed": false
   },
   "outputs": [
    {
     "data": {
      "text/plain": [
       "count    765.000000\n",
       "mean       2.210158\n",
       "std        6.828824\n",
       "min        0.008058\n",
       "25%        0.652989\n",
       "50%        0.992927\n",
       "75%        1.454827\n",
       "max      131.014436\n",
       "Name: ratio2011-2008, dtype: float64"
      ]
     },
     "execution_count": 7,
     "metadata": {},
     "output_type": "execute_result"
    }
   ],
   "source": [
    "df['ratio2011-2008'].describe()"
   ]
  },
  {
   "cell_type": "code",
   "execution_count": 8,
   "metadata": {
    "collapsed": false
   },
   "outputs": [
    {
     "data": {
      "text/html": [
       "<div>\n",
       "<style scoped>\n",
       "    .dataframe tbody tr th:only-of-type {\n",
       "        vertical-align: middle;\n",
       "    }\n",
       "\n",
       "    .dataframe tbody tr th {\n",
       "        vertical-align: top;\n",
       "    }\n",
       "\n",
       "    .dataframe thead th {\n",
       "        text-align: right;\n",
       "    }\n",
       "</style>\n",
       "<table border=\"1\" class=\"dataframe\">\n",
       "  <thead>\n",
       "    <tr style=\"text-align: right;\">\n",
       "      <th></th>\n",
       "      <th>pmrate2008</th>\n",
       "      <th>pmrate2011</th>\n",
       "      <th>pmrate2014</th>\n",
       "      <th>ratio2014-2011</th>\n",
       "      <th>ratio2011-2008</th>\n",
       "      <th>ratio2014-2008</th>\n",
       "    </tr>\n",
       "    <tr>\n",
       "      <th>orispl</th>\n",
       "      <th></th>\n",
       "      <th></th>\n",
       "      <th></th>\n",
       "      <th></th>\n",
       "      <th></th>\n",
       "      <th></th>\n",
       "    </tr>\n",
       "  </thead>\n",
       "  <tbody>\n",
       "    <tr>\n",
       "      <th>8</th>\n",
       "      <td>0.000033</td>\n",
       "      <td>0.000060</td>\n",
       "      <td>4.974176e-05</td>\n",
       "      <td>0.825561</td>\n",
       "      <td>1.809986</td>\n",
       "      <td>1.494253</td>\n",
       "    </tr>\n",
       "    <tr>\n",
       "      <th>26</th>\n",
       "      <td>0.000040</td>\n",
       "      <td>0.000091</td>\n",
       "      <td>3.984484e-05</td>\n",
       "      <td>0.438964</td>\n",
       "      <td>2.291440</td>\n",
       "      <td>1.005860</td>\n",
       "    </tr>\n",
       "    <tr>\n",
       "      <th>51</th>\n",
       "      <td>0.000107</td>\n",
       "      <td>0.000097</td>\n",
       "      <td>8.245157e-05</td>\n",
       "      <td>0.851192</td>\n",
       "      <td>0.909512</td>\n",
       "      <td>0.774170</td>\n",
       "    </tr>\n",
       "    <tr>\n",
       "      <th>59</th>\n",
       "      <td>0.000067</td>\n",
       "      <td>0.000044</td>\n",
       "      <td>1.372868e-05</td>\n",
       "      <td>0.315472</td>\n",
       "      <td>0.652989</td>\n",
       "      <td>0.206000</td>\n",
       "    </tr>\n",
       "    <tr>\n",
       "      <th>60</th>\n",
       "      <td>0.000108</td>\n",
       "      <td>0.000038</td>\n",
       "      <td>3.234613e-05</td>\n",
       "      <td>0.848870</td>\n",
       "      <td>0.353869</td>\n",
       "      <td>0.300389</td>\n",
       "    </tr>\n",
       "    <tr>\n",
       "      <th>87</th>\n",
       "      <td>0.000029</td>\n",
       "      <td>0.000009</td>\n",
       "      <td>8.555285e-06</td>\n",
       "      <td>0.995791</td>\n",
       "      <td>0.292739</td>\n",
       "      <td>0.291507</td>\n",
       "    </tr>\n",
       "    <tr>\n",
       "      <th>108</th>\n",
       "      <td>0.000027</td>\n",
       "      <td>0.000055</td>\n",
       "      <td>5.584967e-05</td>\n",
       "      <td>1.009792</td>\n",
       "      <td>2.064589</td>\n",
       "      <td>2.084806</td>\n",
       "    </tr>\n",
       "    <tr>\n",
       "      <th>118</th>\n",
       "      <td>0.000032</td>\n",
       "      <td>0.000026</td>\n",
       "      <td>7.338283e-05</td>\n",
       "      <td>2.777985</td>\n",
       "      <td>0.821027</td>\n",
       "      <td>2.280801</td>\n",
       "    </tr>\n",
       "    <tr>\n",
       "      <th>120</th>\n",
       "      <td>0.000033</td>\n",
       "      <td>0.000016</td>\n",
       "      <td>3.896040e-05</td>\n",
       "      <td>2.375380</td>\n",
       "      <td>0.502422</td>\n",
       "      <td>1.193444</td>\n",
       "    </tr>\n",
       "    <tr>\n",
       "      <th>126</th>\n",
       "      <td>0.000131</td>\n",
       "      <td>0.000101</td>\n",
       "      <td>1.066512e-04</td>\n",
       "      <td>1.055346</td>\n",
       "      <td>0.773353</td>\n",
       "      <td>0.816155</td>\n",
       "    </tr>\n",
       "    <tr>\n",
       "      <th>127</th>\n",
       "      <td>0.000036</td>\n",
       "      <td>0.000037</td>\n",
       "      <td>1.750271e-05</td>\n",
       "      <td>0.476174</td>\n",
       "      <td>1.034594</td>\n",
       "      <td>0.492647</td>\n",
       "    </tr>\n",
       "    <tr>\n",
       "      <th>130</th>\n",
       "      <td>0.000086</td>\n",
       "      <td>0.000068</td>\n",
       "      <td>6.236963e-05</td>\n",
       "      <td>0.919837</td>\n",
       "      <td>0.789099</td>\n",
       "      <td>0.725843</td>\n",
       "    </tr>\n",
       "    <tr>\n",
       "      <th>141</th>\n",
       "      <td>0.000002</td>\n",
       "      <td>0.000057</td>\n",
       "      <td>2.379942e-06</td>\n",
       "      <td>0.041690</td>\n",
       "      <td>25.723017</td>\n",
       "      <td>1.072399</td>\n",
       "    </tr>\n",
       "    <tr>\n",
       "      <th>165</th>\n",
       "      <td>0.000056</td>\n",
       "      <td>0.000073</td>\n",
       "      <td>7.303958e-05</td>\n",
       "      <td>0.994881</td>\n",
       "      <td>1.321441</td>\n",
       "      <td>1.314676</td>\n",
       "    </tr>\n",
       "    <tr>\n",
       "      <th>170</th>\n",
       "      <td>0.000032</td>\n",
       "      <td>0.000047</td>\n",
       "      <td>3.893931e-05</td>\n",
       "      <td>0.830375</td>\n",
       "      <td>1.487576</td>\n",
       "      <td>1.235247</td>\n",
       "    </tr>\n",
       "    <tr>\n",
       "      <th>201</th>\n",
       "      <td>0.000050</td>\n",
       "      <td>0.000043</td>\n",
       "      <td>3.322228e-05</td>\n",
       "      <td>0.773332</td>\n",
       "      <td>0.861283</td>\n",
       "      <td>0.666058</td>\n",
       "    </tr>\n",
       "    <tr>\n",
       "      <th>260</th>\n",
       "      <td>0.000017</td>\n",
       "      <td>0.000017</td>\n",
       "      <td>1.442146e-05</td>\n",
       "      <td>0.862375</td>\n",
       "      <td>0.963003</td>\n",
       "      <td>0.830470</td>\n",
       "    </tr>\n",
       "    <tr>\n",
       "      <th>271</th>\n",
       "      <td>0.000019</td>\n",
       "      <td>0.000069</td>\n",
       "      <td>2.674284e-05</td>\n",
       "      <td>0.389093</td>\n",
       "      <td>3.583957</td>\n",
       "      <td>1.394494</td>\n",
       "    </tr>\n",
       "    <tr>\n",
       "      <th>298</th>\n",
       "      <td>0.000032</td>\n",
       "      <td>0.000050</td>\n",
       "      <td>5.820226e-05</td>\n",
       "      <td>1.171468</td>\n",
       "      <td>1.566980</td>\n",
       "      <td>1.835666</td>\n",
       "    </tr>\n",
       "    <tr>\n",
       "      <th>302</th>\n",
       "      <td>0.000056</td>\n",
       "      <td>0.000044</td>\n",
       "      <td>6.275649e-05</td>\n",
       "      <td>1.435151</td>\n",
       "      <td>0.779235</td>\n",
       "      <td>1.118319</td>\n",
       "    </tr>\n",
       "    <tr>\n",
       "      <th>315</th>\n",
       "      <td>0.000007</td>\n",
       "      <td>0.000015</td>\n",
       "      <td>7.698463e-06</td>\n",
       "      <td>0.523412</td>\n",
       "      <td>2.167307</td>\n",
       "      <td>1.134394</td>\n",
       "    </tr>\n",
       "    <tr>\n",
       "      <th>329</th>\n",
       "      <td>0.000018</td>\n",
       "      <td>0.000152</td>\n",
       "      <td>2.042391e-05</td>\n",
       "      <td>0.134294</td>\n",
       "      <td>8.604036</td>\n",
       "      <td>1.155470</td>\n",
       "    </tr>\n",
       "    <tr>\n",
       "      <th>330</th>\n",
       "      <td>0.000039</td>\n",
       "      <td>0.000050</td>\n",
       "      <td>9.324971e-06</td>\n",
       "      <td>0.186110</td>\n",
       "      <td>1.272584</td>\n",
       "      <td>0.236840</td>\n",
       "    </tr>\n",
       "    <tr>\n",
       "      <th>331</th>\n",
       "      <td>0.000088</td>\n",
       "      <td>0.000249</td>\n",
       "      <td>2.806702e-04</td>\n",
       "      <td>1.126974</td>\n",
       "      <td>2.838098</td>\n",
       "      <td>3.198464</td>\n",
       "    </tr>\n",
       "    <tr>\n",
       "      <th>335</th>\n",
       "      <td>0.000015</td>\n",
       "      <td>0.000012</td>\n",
       "      <td>1.064528e-05</td>\n",
       "      <td>0.864624</td>\n",
       "      <td>0.847677</td>\n",
       "      <td>0.732922</td>\n",
       "    </tr>\n",
       "    <tr>\n",
       "      <th>356</th>\n",
       "      <td>0.000010</td>\n",
       "      <td>0.000007</td>\n",
       "      <td>1.233279e-05</td>\n",
       "      <td>1.749279</td>\n",
       "      <td>0.732530</td>\n",
       "      <td>1.281398</td>\n",
       "    </tr>\n",
       "    <tr>\n",
       "      <th>377</th>\n",
       "      <td>0.000018</td>\n",
       "      <td>0.000141</td>\n",
       "      <td>2.494632e-04</td>\n",
       "      <td>1.772520</td>\n",
       "      <td>7.704817</td>\n",
       "      <td>13.656945</td>\n",
       "    </tr>\n",
       "    <tr>\n",
       "      <th>389</th>\n",
       "      <td>0.000058</td>\n",
       "      <td>0.000027</td>\n",
       "      <td>1.206087e-05</td>\n",
       "      <td>0.451372</td>\n",
       "      <td>0.459702</td>\n",
       "      <td>0.207497</td>\n",
       "    </tr>\n",
       "    <tr>\n",
       "      <th>400</th>\n",
       "      <td>0.000014</td>\n",
       "      <td>0.000012</td>\n",
       "      <td>1.125774e-05</td>\n",
       "      <td>0.929068</td>\n",
       "      <td>0.897477</td>\n",
       "      <td>0.833817</td>\n",
       "    </tr>\n",
       "    <tr>\n",
       "      <th>408</th>\n",
       "      <td>0.000003</td>\n",
       "      <td>0.000005</td>\n",
       "      <td>6.854977e-06</td>\n",
       "      <td>1.438373</td>\n",
       "      <td>1.365679</td>\n",
       "      <td>1.964356</td>\n",
       "    </tr>\n",
       "    <tr>\n",
       "      <th>...</th>\n",
       "      <td>...</td>\n",
       "      <td>...</td>\n",
       "      <td>...</td>\n",
       "      <td>...</td>\n",
       "      <td>...</td>\n",
       "      <td>...</td>\n",
       "    </tr>\n",
       "    <tr>\n",
       "      <th>55457</th>\n",
       "      <td>0.000061</td>\n",
       "      <td>0.000060</td>\n",
       "      <td>5.997402e-05</td>\n",
       "      <td>0.992444</td>\n",
       "      <td>0.992178</td>\n",
       "      <td>0.984681</td>\n",
       "    </tr>\n",
       "    <tr>\n",
       "      <th>55463</th>\n",
       "      <td>0.000020</td>\n",
       "      <td>0.000022</td>\n",
       "      <td>2.209615e-05</td>\n",
       "      <td>1.012533</td>\n",
       "      <td>1.098833</td>\n",
       "      <td>1.112604</td>\n",
       "    </tr>\n",
       "    <tr>\n",
       "      <th>55464</th>\n",
       "      <td>0.000005</td>\n",
       "      <td>0.000005</td>\n",
       "      <td>7.153554e-06</td>\n",
       "      <td>1.516215</td>\n",
       "      <td>0.900083</td>\n",
       "      <td>1.364719</td>\n",
       "    </tr>\n",
       "    <tr>\n",
       "      <th>55467</th>\n",
       "      <td>0.000073</td>\n",
       "      <td>0.000217</td>\n",
       "      <td>9.049153e-05</td>\n",
       "      <td>0.417079</td>\n",
       "      <td>2.974113</td>\n",
       "      <td>1.240441</td>\n",
       "    </tr>\n",
       "    <tr>\n",
       "      <th>55477</th>\n",
       "      <td>0.008068</td>\n",
       "      <td>0.011237</td>\n",
       "      <td>1.239929e-03</td>\n",
       "      <td>0.110341</td>\n",
       "      <td>1.392805</td>\n",
       "      <td>0.153684</td>\n",
       "    </tr>\n",
       "    <tr>\n",
       "      <th>55479</th>\n",
       "      <td>0.000030</td>\n",
       "      <td>0.000038</td>\n",
       "      <td>6.937347e-06</td>\n",
       "      <td>0.180720</td>\n",
       "      <td>1.276223</td>\n",
       "      <td>0.230639</td>\n",
       "    </tr>\n",
       "    <tr>\n",
       "      <th>55480</th>\n",
       "      <td>0.000039</td>\n",
       "      <td>0.000048</td>\n",
       "      <td>2.236482e-05</td>\n",
       "      <td>0.462926</td>\n",
       "      <td>1.245543</td>\n",
       "      <td>0.576594</td>\n",
       "    </tr>\n",
       "    <tr>\n",
       "      <th>55481</th>\n",
       "      <td>0.000002</td>\n",
       "      <td>0.000016</td>\n",
       "      <td>6.683441e-07</td>\n",
       "      <td>0.041785</td>\n",
       "      <td>7.395855</td>\n",
       "      <td>0.309038</td>\n",
       "    </tr>\n",
       "    <tr>\n",
       "      <th>55501</th>\n",
       "      <td>0.000008</td>\n",
       "      <td>0.000009</td>\n",
       "      <td>8.017531e-06</td>\n",
       "      <td>0.870490</td>\n",
       "      <td>1.200354</td>\n",
       "      <td>1.044895</td>\n",
       "    </tr>\n",
       "    <tr>\n",
       "      <th>55514</th>\n",
       "      <td>0.000005</td>\n",
       "      <td>0.000011</td>\n",
       "      <td>2.967578e-05</td>\n",
       "      <td>2.618600</td>\n",
       "      <td>2.442853</td>\n",
       "      <td>6.396853</td>\n",
       "    </tr>\n",
       "    <tr>\n",
       "      <th>55518</th>\n",
       "      <td>0.000041</td>\n",
       "      <td>0.000045</td>\n",
       "      <td>4.649276e-05</td>\n",
       "      <td>1.030744</td>\n",
       "      <td>1.100201</td>\n",
       "      <td>1.134025</td>\n",
       "    </tr>\n",
       "    <tr>\n",
       "      <th>55620</th>\n",
       "      <td>0.000048</td>\n",
       "      <td>0.000148</td>\n",
       "      <td>6.560664e-05</td>\n",
       "      <td>0.443280</td>\n",
       "      <td>3.096981</td>\n",
       "      <td>1.372829</td>\n",
       "    </tr>\n",
       "    <tr>\n",
       "      <th>55656</th>\n",
       "      <td>0.000013</td>\n",
       "      <td>0.000012</td>\n",
       "      <td>3.867090e-06</td>\n",
       "      <td>0.332800</td>\n",
       "      <td>0.862355</td>\n",
       "      <td>0.286992</td>\n",
       "    </tr>\n",
       "    <tr>\n",
       "      <th>55661</th>\n",
       "      <td>0.000048</td>\n",
       "      <td>0.000023</td>\n",
       "      <td>2.468447e-05</td>\n",
       "      <td>1.074660</td>\n",
       "      <td>0.481614</td>\n",
       "      <td>0.517571</td>\n",
       "    </tr>\n",
       "    <tr>\n",
       "      <th>55662</th>\n",
       "      <td>0.000020</td>\n",
       "      <td>0.000014</td>\n",
       "      <td>2.828169e-05</td>\n",
       "      <td>2.053618</td>\n",
       "      <td>0.685300</td>\n",
       "      <td>1.407345</td>\n",
       "    </tr>\n",
       "    <tr>\n",
       "      <th>55664</th>\n",
       "      <td>0.000035</td>\n",
       "      <td>0.000034</td>\n",
       "      <td>3.209300e-05</td>\n",
       "      <td>0.940373</td>\n",
       "      <td>0.983695</td>\n",
       "      <td>0.925040</td>\n",
       "    </tr>\n",
       "    <tr>\n",
       "      <th>55698</th>\n",
       "      <td>0.000012</td>\n",
       "      <td>0.000008</td>\n",
       "      <td>3.564067e-06</td>\n",
       "      <td>0.427505</td>\n",
       "      <td>0.671480</td>\n",
       "      <td>0.287061</td>\n",
       "    </tr>\n",
       "    <tr>\n",
       "      <th>55749</th>\n",
       "      <td>0.000031</td>\n",
       "      <td>0.000400</td>\n",
       "      <td>5.138028e-05</td>\n",
       "      <td>0.128505</td>\n",
       "      <td>13.079623</td>\n",
       "      <td>1.680793</td>\n",
       "    </tr>\n",
       "    <tr>\n",
       "      <th>55801</th>\n",
       "      <td>0.000015</td>\n",
       "      <td>0.000024</td>\n",
       "      <td>1.430532e-05</td>\n",
       "      <td>0.589042</td>\n",
       "      <td>1.654120</td>\n",
       "      <td>0.974345</td>\n",
       "    </tr>\n",
       "    <tr>\n",
       "      <th>55807</th>\n",
       "      <td>0.000008</td>\n",
       "      <td>0.000008</td>\n",
       "      <td>4.901278e-06</td>\n",
       "      <td>0.591145</td>\n",
       "      <td>1.035459</td>\n",
       "      <td>0.612106</td>\n",
       "    </tr>\n",
       "    <tr>\n",
       "      <th>55841</th>\n",
       "      <td>0.000006</td>\n",
       "      <td>0.000026</td>\n",
       "      <td>3.459433e-05</td>\n",
       "      <td>1.306882</td>\n",
       "      <td>4.156480</td>\n",
       "      <td>5.432028</td>\n",
       "    </tr>\n",
       "    <tr>\n",
       "      <th>55933</th>\n",
       "      <td>0.000082</td>\n",
       "      <td>0.000005</td>\n",
       "      <td>3.759748e-06</td>\n",
       "      <td>0.817990</td>\n",
       "      <td>0.055845</td>\n",
       "      <td>0.045681</td>\n",
       "    </tr>\n",
       "    <tr>\n",
       "      <th>55970</th>\n",
       "      <td>0.000011</td>\n",
       "      <td>0.000006</td>\n",
       "      <td>9.638174e-06</td>\n",
       "      <td>1.731051</td>\n",
       "      <td>0.508922</td>\n",
       "      <td>0.880969</td>\n",
       "    </tr>\n",
       "    <tr>\n",
       "      <th>55985</th>\n",
       "      <td>0.000015</td>\n",
       "      <td>0.000010</td>\n",
       "      <td>3.165257e-06</td>\n",
       "      <td>0.316569</td>\n",
       "      <td>0.688579</td>\n",
       "      <td>0.217983</td>\n",
       "    </tr>\n",
       "    <tr>\n",
       "      <th>56078</th>\n",
       "      <td>0.000024</td>\n",
       "      <td>0.000038</td>\n",
       "      <td>2.737875e-05</td>\n",
       "      <td>0.727004</td>\n",
       "      <td>1.549416</td>\n",
       "      <td>1.126431</td>\n",
       "    </tr>\n",
       "    <tr>\n",
       "      <th>56108</th>\n",
       "      <td>0.000058</td>\n",
       "      <td>0.000058</td>\n",
       "      <td>3.201944e-05</td>\n",
       "      <td>0.551363</td>\n",
       "      <td>1.009760</td>\n",
       "      <td>0.556744</td>\n",
       "    </tr>\n",
       "    <tr>\n",
       "      <th>56283</th>\n",
       "      <td>0.000033</td>\n",
       "      <td>0.000030</td>\n",
       "      <td>1.923014e-05</td>\n",
       "      <td>0.649408</td>\n",
       "      <td>0.887628</td>\n",
       "      <td>0.576433</td>\n",
       "    </tr>\n",
       "    <tr>\n",
       "      <th>56319</th>\n",
       "      <td>0.000020</td>\n",
       "      <td>0.000019</td>\n",
       "      <td>2.181483e-06</td>\n",
       "      <td>0.113820</td>\n",
       "      <td>0.939857</td>\n",
       "      <td>0.106975</td>\n",
       "    </tr>\n",
       "    <tr>\n",
       "      <th>56349</th>\n",
       "      <td>0.000032</td>\n",
       "      <td>0.000037</td>\n",
       "      <td>3.013753e-05</td>\n",
       "      <td>0.824742</td>\n",
       "      <td>1.152891</td>\n",
       "      <td>0.950838</td>\n",
       "    </tr>\n",
       "    <tr>\n",
       "      <th>56350</th>\n",
       "      <td>0.000029</td>\n",
       "      <td>0.000026</td>\n",
       "      <td>2.763873e-05</td>\n",
       "      <td>1.058314</td>\n",
       "      <td>0.900440</td>\n",
       "      <td>0.952948</td>\n",
       "    </tr>\n",
       "  </tbody>\n",
       "</table>\n",
       "<p>416 rows × 6 columns</p>\n",
       "</div>"
      ],
      "text/plain": [
       "        pmrate2008  pmrate2011    pmrate2014  ratio2014-2011  ratio2011-2008  \\\n",
       "orispl                                                                         \n",
       "8         0.000033    0.000060  4.974176e-05        0.825561        1.809986   \n",
       "26        0.000040    0.000091  3.984484e-05        0.438964        2.291440   \n",
       "51        0.000107    0.000097  8.245157e-05        0.851192        0.909512   \n",
       "59        0.000067    0.000044  1.372868e-05        0.315472        0.652989   \n",
       "60        0.000108    0.000038  3.234613e-05        0.848870        0.353869   \n",
       "87        0.000029    0.000009  8.555285e-06        0.995791        0.292739   \n",
       "108       0.000027    0.000055  5.584967e-05        1.009792        2.064589   \n",
       "118       0.000032    0.000026  7.338283e-05        2.777985        0.821027   \n",
       "120       0.000033    0.000016  3.896040e-05        2.375380        0.502422   \n",
       "126       0.000131    0.000101  1.066512e-04        1.055346        0.773353   \n",
       "127       0.000036    0.000037  1.750271e-05        0.476174        1.034594   \n",
       "130       0.000086    0.000068  6.236963e-05        0.919837        0.789099   \n",
       "141       0.000002    0.000057  2.379942e-06        0.041690       25.723017   \n",
       "165       0.000056    0.000073  7.303958e-05        0.994881        1.321441   \n",
       "170       0.000032    0.000047  3.893931e-05        0.830375        1.487576   \n",
       "201       0.000050    0.000043  3.322228e-05        0.773332        0.861283   \n",
       "260       0.000017    0.000017  1.442146e-05        0.862375        0.963003   \n",
       "271       0.000019    0.000069  2.674284e-05        0.389093        3.583957   \n",
       "298       0.000032    0.000050  5.820226e-05        1.171468        1.566980   \n",
       "302       0.000056    0.000044  6.275649e-05        1.435151        0.779235   \n",
       "315       0.000007    0.000015  7.698463e-06        0.523412        2.167307   \n",
       "329       0.000018    0.000152  2.042391e-05        0.134294        8.604036   \n",
       "330       0.000039    0.000050  9.324971e-06        0.186110        1.272584   \n",
       "331       0.000088    0.000249  2.806702e-04        1.126974        2.838098   \n",
       "335       0.000015    0.000012  1.064528e-05        0.864624        0.847677   \n",
       "356       0.000010    0.000007  1.233279e-05        1.749279        0.732530   \n",
       "377       0.000018    0.000141  2.494632e-04        1.772520        7.704817   \n",
       "389       0.000058    0.000027  1.206087e-05        0.451372        0.459702   \n",
       "400       0.000014    0.000012  1.125774e-05        0.929068        0.897477   \n",
       "408       0.000003    0.000005  6.854977e-06        1.438373        1.365679   \n",
       "...            ...         ...           ...             ...             ...   \n",
       "55457     0.000061    0.000060  5.997402e-05        0.992444        0.992178   \n",
       "55463     0.000020    0.000022  2.209615e-05        1.012533        1.098833   \n",
       "55464     0.000005    0.000005  7.153554e-06        1.516215        0.900083   \n",
       "55467     0.000073    0.000217  9.049153e-05        0.417079        2.974113   \n",
       "55477     0.008068    0.011237  1.239929e-03        0.110341        1.392805   \n",
       "55479     0.000030    0.000038  6.937347e-06        0.180720        1.276223   \n",
       "55480     0.000039    0.000048  2.236482e-05        0.462926        1.245543   \n",
       "55481     0.000002    0.000016  6.683441e-07        0.041785        7.395855   \n",
       "55501     0.000008    0.000009  8.017531e-06        0.870490        1.200354   \n",
       "55514     0.000005    0.000011  2.967578e-05        2.618600        2.442853   \n",
       "55518     0.000041    0.000045  4.649276e-05        1.030744        1.100201   \n",
       "55620     0.000048    0.000148  6.560664e-05        0.443280        3.096981   \n",
       "55656     0.000013    0.000012  3.867090e-06        0.332800        0.862355   \n",
       "55661     0.000048    0.000023  2.468447e-05        1.074660        0.481614   \n",
       "55662     0.000020    0.000014  2.828169e-05        2.053618        0.685300   \n",
       "55664     0.000035    0.000034  3.209300e-05        0.940373        0.983695   \n",
       "55698     0.000012    0.000008  3.564067e-06        0.427505        0.671480   \n",
       "55749     0.000031    0.000400  5.138028e-05        0.128505       13.079623   \n",
       "55801     0.000015    0.000024  1.430532e-05        0.589042        1.654120   \n",
       "55807     0.000008    0.000008  4.901278e-06        0.591145        1.035459   \n",
       "55841     0.000006    0.000026  3.459433e-05        1.306882        4.156480   \n",
       "55933     0.000082    0.000005  3.759748e-06        0.817990        0.055845   \n",
       "55970     0.000011    0.000006  9.638174e-06        1.731051        0.508922   \n",
       "55985     0.000015    0.000010  3.165257e-06        0.316569        0.688579   \n",
       "56078     0.000024    0.000038  2.737875e-05        0.727004        1.549416   \n",
       "56108     0.000058    0.000058  3.201944e-05        0.551363        1.009760   \n",
       "56283     0.000033    0.000030  1.923014e-05        0.649408        0.887628   \n",
       "56319     0.000020    0.000019  2.181483e-06        0.113820        0.939857   \n",
       "56349     0.000032    0.000037  3.013753e-05        0.824742        1.152891   \n",
       "56350     0.000029    0.000026  2.763873e-05        1.058314        0.900440   \n",
       "\n",
       "        ratio2014-2008  \n",
       "orispl                  \n",
       "8             1.494253  \n",
       "26            1.005860  \n",
       "51            0.774170  \n",
       "59            0.206000  \n",
       "60            0.300389  \n",
       "87            0.291507  \n",
       "108           2.084806  \n",
       "118           2.280801  \n",
       "120           1.193444  \n",
       "126           0.816155  \n",
       "127           0.492647  \n",
       "130           0.725843  \n",
       "141           1.072399  \n",
       "165           1.314676  \n",
       "170           1.235247  \n",
       "201           0.666058  \n",
       "260           0.830470  \n",
       "271           1.394494  \n",
       "298           1.835666  \n",
       "302           1.118319  \n",
       "315           1.134394  \n",
       "329           1.155470  \n",
       "330           0.236840  \n",
       "331           3.198464  \n",
       "335           0.732922  \n",
       "356           1.281398  \n",
       "377          13.656945  \n",
       "389           0.207497  \n",
       "400           0.833817  \n",
       "408           1.964356  \n",
       "...                ...  \n",
       "55457         0.984681  \n",
       "55463         1.112604  \n",
       "55464         1.364719  \n",
       "55467         1.240441  \n",
       "55477         0.153684  \n",
       "55479         0.230639  \n",
       "55480         0.576594  \n",
       "55481         0.309038  \n",
       "55501         1.044895  \n",
       "55514         6.396853  \n",
       "55518         1.134025  \n",
       "55620         1.372829  \n",
       "55656         0.286992  \n",
       "55661         0.517571  \n",
       "55662         1.407345  \n",
       "55664         0.925040  \n",
       "55698         0.287061  \n",
       "55749         1.680793  \n",
       "55801         0.974345  \n",
       "55807         0.612106  \n",
       "55841         5.432028  \n",
       "55933         0.045681  \n",
       "55970         0.880969  \n",
       "55985         0.217983  \n",
       "56078         1.126431  \n",
       "56108         0.556744  \n",
       "56283         0.576433  \n",
       "56319         0.106975  \n",
       "56349         0.950838  \n",
       "56350         0.952948  \n",
       "\n",
       "[416 rows x 6 columns]"
      ]
     },
     "execution_count": 8,
     "metadata": {},
     "output_type": "execute_result"
    }
   ],
   "source": [
    "df.dropna()"
   ]
  },
  {
   "cell_type": "markdown",
   "metadata": {},
   "source": [
    "### Isolate to plants in PJM "
   ]
  },
  {
   "cell_type": "code",
   "execution_count": 9,
   "metadata": {
    "collapsed": true
   },
   "outputs": [],
   "source": [
    "plant_geo = pd.read_csv('plant_geography.csv', index_col='orispl').sort_index()\n",
    "plant_geo.index = plant_geo.index.astype(int)"
   ]
  },
  {
   "cell_type": "code",
   "execution_count": 10,
   "metadata": {
    "collapsed": true
   },
   "outputs": [],
   "source": [
    "pjm = plant_geo[plant_geo['isorto'] == 'PJM']"
   ]
  },
  {
   "cell_type": "code",
   "execution_count": 11,
   "metadata": {
    "collapsed": false
   },
   "outputs": [
    {
     "data": {
      "text/plain": [
       "1017"
      ]
     },
     "execution_count": 11,
     "metadata": {},
     "output_type": "execute_result"
    }
   ],
   "source": [
    "len(pjm)"
   ]
  },
  {
   "cell_type": "code",
   "execution_count": 12,
   "metadata": {
    "collapsed": false
   },
   "outputs": [
    {
     "data": {
      "text/plain": [
       "1017"
      ]
     },
     "execution_count": 12,
     "metadata": {},
     "output_type": "execute_result"
    }
   ],
   "source": [
    "df_pjm = df.reindex(pjm.index)\n",
    "len(df_pjm)"
   ]
  },
  {
   "cell_type": "code",
   "execution_count": 13,
   "metadata": {
    "collapsed": false
   },
   "outputs": [
    {
     "name": "stdout",
     "output_type": "stream",
     "text": [
      "43\n",
      "145\n",
      "142\n"
     ]
    }
   ],
   "source": [
    "print(len(plant2014.reindex(pjm.index).dropna()))\n",
    "print(len(plant2011.reindex(pjm.index).dropna()))\n",
    "print(len(plant2008.reindex(pjm.index).dropna()))"
   ]
  },
  {
   "cell_type": "markdown",
   "metadata": {},
   "source": [
    "### Stats "
   ]
  },
  {
   "cell_type": "code",
   "execution_count": 14,
   "metadata": {
    "collapsed": true
   },
   "outputs": [],
   "source": [
    "ratios = pd.DataFrame(df_pjm[['ratio2014-2011', 'ratio2011-2008', 'ratio2014-2008']])\n",
    "ratios.columns = ['2014/2011', '2011/2008', '2014/2008']"
   ]
  },
  {
   "cell_type": "code",
   "execution_count": 15,
   "metadata": {
    "collapsed": false
   },
   "outputs": [
    {
     "data": {
      "text/plain": [
       "39"
      ]
     },
     "execution_count": 15,
     "metadata": {},
     "output_type": "execute_result"
    }
   ],
   "source": [
    "len(ratios.dropna())"
   ]
  },
  {
   "cell_type": "code",
   "execution_count": 16,
   "metadata": {
    "collapsed": false
   },
   "outputs": [
    {
     "data": {
      "image/png": "[encoded data removed]",
      "text/plain": [
       "<matplotlib.figure.Figure at 0x108505ba8>"
      ]
     },
     "metadata": {},
     "output_type": "display_data"
    }
   ],
   "source": [
    "fig, ax = plt.subplots()\n",
    "ratios.plot(kind='box', logy=True, ax=ax);\n",
    "ax.set_ylabel('Ratio between plant PM$_{2.5}$\\nrates (log scale)');\n",
    "ax.set_xlabel('NEI comparison year/NEI base year');\n",
    "for item in ([ax.title, ax.xaxis.label, ax.yaxis.label] +\n",
    "             ax.get_xticklabels() + ax.get_yticklabels()):\n",
    "    item.set_fontsize(14)\n",
    "plt.tight_layout()\n",
    "fig.savefig('individual_plant_pjm_ratio.pdf', bbox_inches='tight')"
   ]
  },
  {
   "cell_type": "code",
   "execution_count": 17,
   "metadata": {
    "collapsed": false
   },
   "outputs": [
    {
     "name": "stdout",
     "output_type": "stream",
     "text": [
      "\\begin{tabular}{lrrr}\n",
      "\\toprule\n",
      "{} &  2014/2011 &  2011/2008 &  2014/2008 \\\\\n",
      "\\midrule\n",
      "count &      42.00 &     142.00 &      39.00 \\\\\n",
      "mean  &       1.59 &       1.19 &       1.13 \\\\\n",
      "std   &       2.52 &       1.37 &       1.00 \\\\\n",
      "min   &       0.11 &       0.01 &       0.02 \\\\\n",
      "25\\%   &       0.64 &       0.44 &       0.30 \\\\\n",
      "50\\%   &       0.97 &       0.89 &       0.95 \\\\\n",
      "75\\%   &       1.24 &       1.33 &       1.43 \\\\\n",
      "max   &      14.30 &      11.69 &       3.79 \\\\\n",
      "\\bottomrule\n",
      "\\end{tabular}\n",
      "\n"
     ]
    }
   ],
   "source": [
    "print(ratios.describe().round(2).to_latex())"
   ]
  },
  {
   "cell_type": "markdown",
   "metadata": {},
   "source": [
    "### Fuel-wise rates"
   ]
  },
  {
   "cell_type": "code",
   "execution_count": 18,
   "metadata": {
    "collapsed": true
   },
   "outputs": [],
   "source": [
    "fuel2008 = pd.read_csv('fuel_pm_rates2008.csv', index_col='fuel').sort_index()\n",
    "fuel2011 = pd.read_csv('fuel_pm_rates2011.csv', index_col='fuel').sort_index()\n",
    "fuel2014 = pd.read_csv('fuel_pm_rates2014.csv', index_col='fuel').sort_index()"
   ]
  },
  {
   "cell_type": "code",
   "execution_count": 19,
   "metadata": {
    "collapsed": false
   },
   "outputs": [
    {
     "data": {
      "text/html": [
       "<div>\n",
       "<style scoped>\n",
       "    .dataframe tbody tr th:only-of-type {\n",
       "        vertical-align: middle;\n",
       "    }\n",
       "\n",
       "    .dataframe tbody tr th {\n",
       "        vertical-align: top;\n",
       "    }\n",
       "\n",
       "    .dataframe thead th {\n",
       "        text-align: right;\n",
       "    }\n",
       "</style>\n",
       "<table border=\"1\" class=\"dataframe\">\n",
       "  <thead>\n",
       "    <tr style=\"text-align: right;\">\n",
       "      <th></th>\n",
       "      <th>avg_rate</th>\n",
       "      <th>num_plants</th>\n",
       "    </tr>\n",
       "    <tr>\n",
       "      <th>fuel</th>\n",
       "      <th></th>\n",
       "      <th></th>\n",
       "    </tr>\n",
       "  </thead>\n",
       "  <tbody>\n",
       "    <tr>\n",
       "      <th>AVG</th>\n",
       "      <td>0.000164</td>\n",
       "      <td>789</td>\n",
       "    </tr>\n",
       "    <tr>\n",
       "      <th>BIOMASS</th>\n",
       "      <td>0.000279</td>\n",
       "      <td>6</td>\n",
       "    </tr>\n",
       "    <tr>\n",
       "      <th>COAL</th>\n",
       "      <td>0.000209</td>\n",
       "      <td>354</td>\n",
       "    </tr>\n",
       "    <tr>\n",
       "      <th>GAS</th>\n",
       "      <td>0.000122</td>\n",
       "      <td>408</td>\n",
       "    </tr>\n",
       "    <tr>\n",
       "      <th>OIL</th>\n",
       "      <td>0.000167</td>\n",
       "      <td>21</td>\n",
       "    </tr>\n",
       "  </tbody>\n",
       "</table>\n",
       "</div>"
      ],
      "text/plain": [
       "         avg_rate  num_plants\n",
       "fuel                         \n",
       "AVG      0.000164         789\n",
       "BIOMASS  0.000279           6\n",
       "COAL     0.000209         354\n",
       "GAS      0.000122         408\n",
       "OIL      0.000167          21"
      ]
     },
     "execution_count": 19,
     "metadata": {},
     "output_type": "execute_result"
    }
   ],
   "source": [
    "fuel2008"
   ]
  },
  {
   "cell_type": "code",
   "execution_count": 20,
   "metadata": {
    "collapsed": false
   },
   "outputs": [
    {
     "data": {
      "text/plain": [
       "0.00016365470585315222"
      ]
     },
     "execution_count": 20,
     "metadata": {},
     "output_type": "execute_result"
    }
   ],
   "source": [
    "plant2008['pmrate'].mean()"
   ]
  },
  {
   "cell_type": "code",
   "execution_count": 21,
   "metadata": {
    "collapsed": false
   },
   "outputs": [
    {
     "data": {
      "text/plain": [
       "0.0002094530873612687"
      ]
     },
     "execution_count": 21,
     "metadata": {},
     "output_type": "execute_result"
    }
   ],
   "source": [
    "plant2008[plant2008['fuel'] == 'COAL']['pmrate'].mean()"
   ]
  },
  {
   "cell_type": "code",
   "execution_count": 22,
   "metadata": {
    "collapsed": false
   },
   "outputs": [
    {
     "data": {
      "text/plain": [
       "fuel\n",
       "AVG        0.611252\n",
       "BIOMASS         NaN\n",
       "COAL       0.684227\n",
       "GAS        0.759747\n",
       "OIL        0.030075\n",
       "Name: avg_rate, dtype: float64"
      ]
     },
     "execution_count": 22,
     "metadata": {},
     "output_type": "execute_result"
    }
   ],
   "source": [
    "fuel2014['avg_rate'] / fuel2011['avg_rate']"
   ]
  },
  {
   "cell_type": "code",
   "execution_count": 23,
   "metadata": {
    "collapsed": false
   },
   "outputs": [
    {
     "data": {
      "text/plain": [
       "fuel\n",
       "AVG        1.101217\n",
       "BIOMASS    1.181488\n",
       "COAL       1.252582\n",
       "GAS        1.222435\n",
       "OIL        0.186646\n",
       "Name: avg_rate, dtype: float64"
      ]
     },
     "execution_count": 23,
     "metadata": {},
     "output_type": "execute_result"
    }
   ],
   "source": [
    "fuel2008['avg_rate'] / fuel2011['avg_rate']"
   ]
  },
  {
   "cell_type": "markdown",
   "metadata": {},
   "source": [
    "## Plots "
   ]
  },
  {
   "cell_type": "code",
   "execution_count": 24,
   "metadata": {
    "collapsed": false
   },
   "outputs": [
    {
     "data": {
      "image/png": "[encoded data removed]",
      "text/plain": [
       "<matplotlib.figure.Figure at 0x1093c9e10>"
      ]
     },
     "metadata": {},
     "output_type": "display_data"
    }
   ],
   "source": [
    "fig, ax = plt.subplots(figsize=(6,4));\n",
    "pjm_only_rates_all = df_pjm[['pmrate2008', 'pmrate2011', 'pmrate2014']].dropna().T.set_index(\n",
    "    np.array([2008, 2011, 2014])).T * METTON_PER_TON * KG_PER_METTON\n",
    "pjm_only_rates = pjm_only_rates_all.mean();\n",
    "pjm_only_rates.plot(ax=ax, style='o--', lw=3, markersize=7);\n",
    "ax.set_ylabel('Average plant PM$_{2.5}$\\nrate (kg/MWh)')\n",
    "ax.set_xlabel('Year');\n",
    "for item in ([ax.title, ax.xaxis.label, ax.yaxis.label] +\n",
    "             ax.get_xticklabels() + ax.get_yticklabels()):\n",
    "    item.set_fontsize(14)\n",
    "plt.tight_layout()\n",
    "plt.savefig('pmrates_pjm.pdf', bbox_inches='tight')"
   ]
  },
  {
   "cell_type": "code",
   "execution_count": 25,
   "metadata": {
    "collapsed": false
   },
   "outputs": [
    {
     "data": {
      "text/html": [
       "<div>\n",
       "<style scoped>\n",
       "    .dataframe tbody tr th:only-of-type {\n",
       "        vertical-align: middle;\n",
       "    }\n",
       "\n",
       "    .dataframe tbody tr th {\n",
       "        vertical-align: top;\n",
       "    }\n",
       "\n",
       "    .dataframe thead th {\n",
       "        text-align: right;\n",
       "    }\n",
       "</style>\n",
       "<table border=\"1\" class=\"dataframe\">\n",
       "  <thead>\n",
       "    <tr style=\"text-align: right;\">\n",
       "      <th></th>\n",
       "      <th>PJM Average</th>\n",
       "    </tr>\n",
       "  </thead>\n",
       "  <tbody>\n",
       "    <tr>\n",
       "      <th>2008</th>\n",
       "      <td>0.21 $\\pm$ 0.29</td>\n",
       "    </tr>\n",
       "    <tr>\n",
       "      <th>2011</th>\n",
       "      <td>0.1 $\\pm$ 0.12</td>\n",
       "    </tr>\n",
       "    <tr>\n",
       "      <th>2014</th>\n",
       "      <td>0.09 $\\pm$ 0.1</td>\n",
       "    </tr>\n",
       "  </tbody>\n",
       "</table>\n",
       "</div>"
      ],
      "text/plain": [
       "          PJM Average\n",
       "2008  0.21 $\\pm$ 0.29\n",
       "2011   0.1 $\\pm$ 0.12\n",
       "2014   0.09 $\\pm$ 0.1"
      ]
     },
     "execution_count": 25,
     "metadata": {},
     "output_type": "execute_result"
    }
   ],
   "source": [
    "fmtted = pjm_only_rates_all.mean().round(2).astype(str) + ' $\\pm$ ' + pjm_only_rates_all.std().round(2).astype(str)\n",
    "fmtted = fmtted.apply(lambda x: x.replace('nan $\\pm$ nan', '--'))\n",
    "fmtted = pd.DataFrame(fmtted)\n",
    "fmtted.columns = ['PJM Average']\n",
    "fmtted"
   ]
  },
  {
   "cell_type": "code",
   "execution_count": 26,
   "metadata": {
    "collapsed": false
   },
   "outputs": [
    {
     "name": "stdout",
     "output_type": "stream",
     "text": [
      "\\begin{tabular}{ll}\n",
      "\\toprule\n",
      "{} &      PJM Average \\\\\n",
      "\\midrule\n",
      "2008 &  0.21 \\$\\textbackslash pm\\$ 0.29 \\\\\n",
      "2011 &   0.1 \\$\\textbackslash pm\\$ 0.12 \\\\\n",
      "2014 &   0.09 \\$\\textbackslash pm\\$ 0.1 \\\\\n",
      "\\bottomrule\n",
      "\\end{tabular}\n",
      "\n"
     ]
    }
   ],
   "source": [
    "print(fmtted.to_latex())"
   ]
  },
  {
   "cell_type": "code",
   "execution_count": 27,
   "metadata": {
    "collapsed": false
   },
   "outputs": [],
   "source": [
    "means = {}\n",
    "stds = {}\n",
    "for ftype in ['BIOMASS', 'COAL', 'GAS', 'OIL']:\n",
    "    means[ftype] = \\\n",
    "    [plant2008[plant2008['fuel'] == ftype]['pmrate'].mean(), \n",
    "     plant2011[plant2011['fuel'] == ftype]['pmrate'].mean(),\n",
    "     plant2014[plant2014['fuel'] == ftype]['pmrate'].mean()]\n",
    "    stds[ftype] = \\\n",
    "    [plant2008[plant2008['fuel'] == ftype]['pmrate'].std(), \n",
    "     plant2011[plant2011['fuel'] == ftype]['pmrate'].std(),\n",
    "     plant2014[plant2014['fuel'] == ftype]['pmrate'].std()]\n",
    "\n",
    "means['AVG'] = [plant2008['pmrate'].mean(), plant2011['pmrate'].mean(), plant2011['pmrate'].mean()]\n",
    "stds['AVG'] = [plant2008['pmrate'].std(), plant2011['pmrate'].std(), plant2011['pmrate'].std()]\n",
    "\n",
    "means = pd.DataFrame(means).set_index(np.array([2008, 2011, 2014]))\n",
    "stds = pd.DataFrame(stds).set_index(np.array([2008, 2011, 2014]))\n",
    "\n",
    "# Set units to kg\n",
    "means = means * METTON_PER_TON * KG_PER_METTON\n",
    "stds = stds * METTON_PER_TON * KG_PER_METTON\n",
    "\n",
    "means.columns = means.columns.map(lambda x: 'Overall' if x in 'AVG' else x.lower().capitalize())\n",
    "stds.columns = stds.columns.map(lambda x: 'Overall' if x in 'AVG' else x.lower().capitalize())"
   ]
  },
  {
   "cell_type": "code",
   "execution_count": 28,
   "metadata": {
    "collapsed": false
   },
   "outputs": [
    {
     "data": {
      "image/png": "[encoded data removed]",
      "text/plain": [
       "<matplotlib.figure.Figure at 0x109a35da0>"
      ]
     },
     "metadata": {},
     "output_type": "display_data"
    }
   ],
   "source": [
    "fig, ax = plt.subplots(figsize=(6,4))\n",
    "means.plot(style=['o-','*--','^-.','X:','P--'], ax=ax, lw=3, markersize=7)\n",
    "ax.set_ylabel('Average plant PM$_{2.5}$\\nrate (kg/MWh)')\n",
    "ax.set_xlabel('Year');\n",
    "plt.legend(fontsize=11)\n",
    "for item in ([ax.title, ax.xaxis.label, ax.yaxis.label] +\n",
    "             ax.get_xticklabels() + ax.get_yticklabels()):\n",
    "    item.set_fontsize(14)\n",
    "plt.tight_layout()\n",
    "plt.savefig('pmrates_us.pdf', bbox_inches='tight')"
   ]
  },
  {
   "cell_type": "code",
   "execution_count": 29,
   "metadata": {
    "collapsed": false
   },
   "outputs": [
    {
     "data": {
      "text/html": [
       "<div>\n",
       "<style scoped>\n",
       "    .dataframe tbody tr th:only-of-type {\n",
       "        vertical-align: middle;\n",
       "    }\n",
       "\n",
       "    .dataframe tbody tr th {\n",
       "        vertical-align: top;\n",
       "    }\n",
       "\n",
       "    .dataframe thead th {\n",
       "        text-align: right;\n",
       "    }\n",
       "</style>\n",
       "<table border=\"1\" class=\"dataframe\">\n",
       "  <thead>\n",
       "    <tr style=\"text-align: right;\">\n",
       "      <th></th>\n",
       "      <th>Overall</th>\n",
       "      <th>Biomass</th>\n",
       "      <th>Coal</th>\n",
       "      <th>Gas</th>\n",
       "      <th>Oil</th>\n",
       "    </tr>\n",
       "  </thead>\n",
       "  <tbody>\n",
       "    <tr>\n",
       "      <th>2008</th>\n",
       "      <td>0.15 $\\pm$ 0.55</td>\n",
       "      <td>0.25 $\\pm$ 0.36</td>\n",
       "      <td>0.19 $\\pm$ 0.54</td>\n",
       "      <td>0.11 $\\pm$ 0.57</td>\n",
       "      <td>0.15 $\\pm$ 0.14</td>\n",
       "    </tr>\n",
       "    <tr>\n",
       "      <th>2011</th>\n",
       "      <td>0.13 $\\pm$ 0.61</td>\n",
       "      <td>0.21 $\\pm$ 0.36</td>\n",
       "      <td>0.15 $\\pm$ 0.31</td>\n",
       "      <td>0.09 $\\pm$ 0.53</td>\n",
       "      <td>0.81 $\\pm$ 2.86</td>\n",
       "    </tr>\n",
       "    <tr>\n",
       "      <th>2014</th>\n",
       "      <td>0.13 $\\pm$ 0.61</td>\n",
       "      <td>--</td>\n",
       "      <td>0.1 $\\pm$ 0.28</td>\n",
       "      <td>0.07 $\\pm$ 0.19</td>\n",
       "      <td>0.02 $\\pm$ 0.03</td>\n",
       "    </tr>\n",
       "  </tbody>\n",
       "</table>\n",
       "</div>"
      ],
      "text/plain": [
       "              Overall          Biomass             Coal              Gas  \\\n",
       "2008  0.15 $\\pm$ 0.55  0.25 $\\pm$ 0.36  0.19 $\\pm$ 0.54  0.11 $\\pm$ 0.57   \n",
       "2011  0.13 $\\pm$ 0.61  0.21 $\\pm$ 0.36  0.15 $\\pm$ 0.31  0.09 $\\pm$ 0.53   \n",
       "2014  0.13 $\\pm$ 0.61               --   0.1 $\\pm$ 0.28  0.07 $\\pm$ 0.19   \n",
       "\n",
       "                  Oil  \n",
       "2008  0.15 $\\pm$ 0.14  \n",
       "2011  0.81 $\\pm$ 2.86  \n",
       "2014  0.02 $\\pm$ 0.03  "
      ]
     },
     "execution_count": 29,
     "metadata": {},
     "output_type": "execute_result"
    }
   ],
   "source": [
    "fmtted = means.round(2).astype(str) + ' $\\pm$ ' + stds.round(2).astype(str)\n",
    "fmtted = fmtted.applymap(lambda x: x.replace('nan $\\pm$ nan', '--'))\n",
    "fmtted"
   ]
  },
  {
   "cell_type": "code",
   "execution_count": 30,
   "metadata": {
    "collapsed": false
   },
   "outputs": [
    {
     "name": "stdout",
     "output_type": "stream",
     "text": [
      "\\begin{tabular}{llllll}\n",
      "\\toprule\n",
      "{} &          Overall &          Biomass &             Coal &              Gas &              Oil \\\\\n",
      "\\midrule\n",
      "2008 &  0.15 \\$\\textbackslash pm\\$ 0.55 &  0.25 \\$\\textbackslash pm\\$ 0.36 &  0.19 \\$\\textbackslash pm\\$ 0.54 &  0.11 \\$\\textbackslash pm\\$ 0.57 &  0.15 \\$\\textbackslash pm\\$ 0.14 \\\\\n",
      "2011 &  0.13 \\$\\textbackslash pm\\$ 0.61 &  0.21 \\$\\textbackslash pm\\$ 0.36 &  0.15 \\$\\textbackslash pm\\$ 0.31 &  0.09 \\$\\textbackslash pm\\$ 0.53 &  0.81 \\$\\textbackslash pm\\$ 2.86 \\\\\n",
      "2014 &  0.13 \\$\\textbackslash pm\\$ 0.61 &               -- &   0.1 \\$\\textbackslash pm\\$ 0.28 &  0.07 \\$\\textbackslash pm\\$ 0.19 &  0.02 \\$\\textbackslash pm\\$ 0.03 \\\\\n",
      "\\bottomrule\n",
      "\\end{tabular}\n",
      "\n"
     ]
    }
   ],
   "source": [
    "print(fmtted.to_latex())"
   ]
  }
 ],
 "metadata": {
  "kernelspec": {
   "display_name": "py35",
   "language": "python",
   "name": "py35"
  },
  "language_info": {
   "codemirror_mode": {
    "name": "ipython",
    "version": 3
   },
   "file_extension": ".py",
   "mimetype": "text/x-python",
   "name": "python",
   "nbconvert_exporter": "python",
   "pygments_lexer": "ipython3",
   "version": "3.5.2"
  }
 },
 "nbformat": 4,
 "nbformat_minor": 2
}

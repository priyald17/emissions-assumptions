{
 "cells": [
  {
   "cell_type": "code",
   "execution_count": 1,
   "metadata": {
    "collapsed": true
   },
   "outputs": [],
   "source": [
    "import pandas as pd\n",
    "import matplotlib.pyplot as plt\n",
    "%matplotlib inline"
   ]
  },
  {
   "cell_type": "markdown",
   "metadata": {},
   "source": [
    "### Analyze seasonal variation in EASIUR (national) "
   ]
  },
  {
   "cell_type": "code",
   "execution_count": 2,
   "metadata": {
    "collapsed": true
   },
   "outputs": [],
   "source": [
    "national = pd.read_csv('national.csv')"
   ]
  },
  {
   "cell_type": "code",
   "execution_count": 3,
   "metadata": {
    "collapsed": false
   },
   "outputs": [
    {
     "name": "stderr",
     "output_type": "stream",
     "text": [
      "/Users/priyadonti/anaconda2/envs/py35/lib/python3.5/site-packages/ipykernel/__main__.py:4: FutureWarning: Sorting because non-concatenation axis is not aligned. A future version\n",
      "of pandas will change to not sort by default.\n",
      "\n",
      "To accept the future behavior, pass 'sort=False'.\n",
      "\n",
      "To retain the current behavior and silence the warning, pass 'sort=True'.\n",
      "\n"
     ]
    }
   ],
   "source": [
    "df = national[national['model'] == 'EASIUR'].set_index('season')\n",
    "total = df.groupby(df.index).sum()\n",
    "total['pollutant'] = 'total'\n",
    "df = pd.concat([df, total])"
   ]
  },
  {
   "cell_type": "code",
   "execution_count": 4,
   "metadata": {
    "collapsed": false
   },
   "outputs": [
    {
     "data": {
      "text/plain": [
       "<matplotlib.legend.Legend at 0x108494550>"
      ]
     },
     "execution_count": 4,
     "metadata": {},
     "output_type": "execute_result"
    },
    {
     "data": {
      "image/png": "[encoded data removed]",
      "text/plain": [
       "<matplotlib.figure.Figure at 0x108494ac8>"
      ]
     },
     "metadata": {},
     "output_type": "display_data"
    }
   ],
   "source": [
    "for pollutant in ['pm25', 'so2', 'nox']:\n",
    "    df[df['pollutant'] == pollutant]['damage'].plot(label=pollutant)\n",
    "plt.legend()"
   ]
  },
  {
   "cell_type": "code",
   "execution_count": 5,
   "metadata": {
    "collapsed": false
   },
   "outputs": [
    {
     "data": {
      "text/plain": [
       "season\n",
       "annual    1.000000\n",
       "winter    1.009123\n",
       "spring    1.014841\n",
       "summer    1.073681\n",
       "fall      0.902355\n",
       "Name: damage, dtype: float64"
      ]
     },
     "execution_count": 5,
     "metadata": {},
     "output_type": "execute_result"
    }
   ],
   "source": [
    "pollutant = 'pm25'\n",
    "df[df['pollutant'] == pollutant]['damage'] / df[df['pollutant'] == pollutant].loc['annual', 'damage']"
   ]
  },
  {
   "cell_type": "code",
   "execution_count": 6,
   "metadata": {
    "collapsed": false
   },
   "outputs": [
    {
     "data": {
      "text/plain": [
       "season\n",
       "annual    1.000000\n",
       "winter    1.129854\n",
       "spring    1.142350\n",
       "summer    0.438972\n",
       "fall      1.288825\n",
       "Name: damage, dtype: float64"
      ]
     },
     "execution_count": 6,
     "metadata": {},
     "output_type": "execute_result"
    }
   ],
   "source": [
    "pollutant = 'nox'\n",
    "df[df['pollutant'] == pollutant]['damage'] / df[df['pollutant'] == pollutant].loc['annual', 'damage']"
   ]
  },
  {
   "cell_type": "code",
   "execution_count": 7,
   "metadata": {
    "collapsed": false
   },
   "outputs": [
    {
     "data": {
      "text/plain": [
       "season\n",
       "annual    1.000000\n",
       "winter    0.760592\n",
       "spring    1.250337\n",
       "summer    1.264979\n",
       "fall      0.724092\n",
       "Name: damage, dtype: float64"
      ]
     },
     "execution_count": 7,
     "metadata": {},
     "output_type": "execute_result"
    }
   ],
   "source": [
    "pollutant = 'so2'\n",
    "df[df['pollutant'] == pollutant]['damage'] / df[df['pollutant'] == pollutant].loc['annual', 'damage']"
   ]
  },
  {
   "cell_type": "code",
   "execution_count": 8,
   "metadata": {
    "collapsed": false
   },
   "outputs": [
    {
     "data": {
      "text/html": [
       "<div>\n",
       "<style scoped>\n",
       "    .dataframe tbody tr th:only-of-type {\n",
       "        vertical-align: middle;\n",
       "    }\n",
       "\n",
       "    .dataframe tbody tr th {\n",
       "        vertical-align: top;\n",
       "    }\n",
       "\n",
       "    .dataframe thead th {\n",
       "        text-align: right;\n",
       "    }\n",
       "</style>\n",
       "<table border=\"1\" class=\"dataframe\">\n",
       "  <thead>\n",
       "    <tr style=\"text-align: right;\">\n",
       "      <th></th>\n",
       "      <th>\\so</th>\n",
       "      <th>\\nox</th>\n",
       "      <th>\\partic</th>\n",
       "    </tr>\n",
       "    <tr>\n",
       "      <th>season</th>\n",
       "      <th></th>\n",
       "      <th></th>\n",
       "      <th></th>\n",
       "    </tr>\n",
       "  </thead>\n",
       "  <tbody>\n",
       "    <tr>\n",
       "      <th>winter</th>\n",
       "      <td>76</td>\n",
       "      <td>112</td>\n",
       "      <td>100</td>\n",
       "    </tr>\n",
       "    <tr>\n",
       "      <th>spring</th>\n",
       "      <td>125</td>\n",
       "      <td>114</td>\n",
       "      <td>101</td>\n",
       "    </tr>\n",
       "    <tr>\n",
       "      <th>summer</th>\n",
       "      <td>126</td>\n",
       "      <td>43</td>\n",
       "      <td>107</td>\n",
       "    </tr>\n",
       "    <tr>\n",
       "      <th>fall</th>\n",
       "      <td>72</td>\n",
       "      <td>128</td>\n",
       "      <td>90</td>\n",
       "    </tr>\n",
       "  </tbody>\n",
       "</table>\n",
       "</div>"
      ],
      "text/plain": [
       "        \\so  \\nox  \\partic\n",
       "season                    \n",
       "winter   76   112      100\n",
       "spring  125   114      101\n",
       "summer  126    43      107\n",
       "fall     72   128       90"
      ]
     },
     "execution_count": 8,
     "metadata": {},
     "output_type": "execute_result"
    }
   ],
   "source": [
    "df_summary1 = \\\n",
    "    pd.concat([df[df['pollutant'] == pollutant]['damage'] / df[df['pollutant'] == pollutant].loc['annual', 'damage']\n",
    "           for pollutant in ['so2', 'nox', 'pm25']], axis=1).drop('annual')\n",
    "df_summary1 = (df_summary1 * 100).astype(int)\n",
    "df_summary1.columns = ['\\so', '\\\\nox', '\\partic']\n",
    "df_summary1"
   ]
  },
  {
   "cell_type": "code",
   "execution_count": 9,
   "metadata": {
    "collapsed": false
   },
   "outputs": [
    {
     "name": "stdout",
     "output_type": "stream",
     "text": [
      "\\begin{tabular}{lrrr}\n",
      "\\toprule\n",
      "{} &  \\textbackslash so &  \\textbackslash nox &  \\textbackslash partic \\\\\n",
      "season &      &       &          \\\\\n",
      "\\midrule\n",
      "winter &   76 &   112 &      100 \\\\\n",
      "spring &  125 &   114 &      101 \\\\\n",
      "summer &  126 &    43 &      107 \\\\\n",
      "fall   &   72 &   128 &       90 \\\\\n",
      "\\bottomrule\n",
      "\\end{tabular}\n",
      "\n"
     ]
    }
   ],
   "source": [
    "print(df_summary1.to_latex())"
   ]
  },
  {
   "cell_type": "markdown",
   "metadata": {},
   "source": [
    "### Analyze seasonal variation in EASIUR (PJM)  "
   ]
  },
  {
   "cell_type": "code",
   "execution_count": 10,
   "metadata": {
    "collapsed": true
   },
   "outputs": [],
   "source": [
    "pjm = pd.read_csv('pjm_states.csv')\n",
    "pjm = pjm.groupby(['pollutant', 'model', 'season', 'elevated']).mean().drop('fips', axis=1).reset_index() # states"
   ]
  },
  {
   "cell_type": "code",
   "execution_count": 11,
   "metadata": {
    "collapsed": false
   },
   "outputs": [
    {
     "name": "stderr",
     "output_type": "stream",
     "text": [
      "/Users/priyadonti/anaconda2/envs/py35/lib/python3.5/site-packages/ipykernel/__main__.py:4: FutureWarning: Sorting because non-concatenation axis is not aligned. A future version\n",
      "of pandas will change to not sort by default.\n",
      "\n",
      "To accept the future behavior, pass 'sort=False'.\n",
      "\n",
      "To retain the current behavior and silence the warning, pass 'sort=True'.\n",
      "\n"
     ]
    }
   ],
   "source": [
    "df = pjm[pjm['model'] == 'EASIUR'].set_index('season')\n",
    "total = df.groupby(df.index).sum()\n",
    "total['pollutant'] = 'total'\n",
    "df = pd.concat([df, total])"
   ]
  },
  {
   "cell_type": "code",
   "execution_count": 12,
   "metadata": {
    "collapsed": false
   },
   "outputs": [
    {
     "data": {
      "text/plain": [
       "<matplotlib.legend.Legend at 0x1085bfba8>"
      ]
     },
     "execution_count": 12,
     "metadata": {},
     "output_type": "execute_result"
    },
    {
     "data": {
      "image/png": "[encoded data removed]",
      "text/plain": [
       "<matplotlib.figure.Figure at 0x108494978>"
      ]
     },
     "metadata": {},
     "output_type": "display_data"
    }
   ],
   "source": [
    "for pollutant in ['pm25', 'so2', 'nox']:\n",
    "    df[df['pollutant'] == pollutant]['damage'].plot(label=pollutant)\n",
    "plt.legend()"
   ]
  },
  {
   "cell_type": "code",
   "execution_count": 13,
   "metadata": {
    "collapsed": false
   },
   "outputs": [
    {
     "data": {
      "text/plain": [
       "season\n",
       "annual    1.000000\n",
       "fall      0.890093\n",
       "spring    1.010408\n",
       "summer    1.060458\n",
       "winter    1.039040\n",
       "Name: damage, dtype: float64"
      ]
     },
     "execution_count": 13,
     "metadata": {},
     "output_type": "execute_result"
    }
   ],
   "source": [
    "pollutant = 'pm25'\n",
    "df[df['pollutant'] == pollutant]['damage'] / df[df['pollutant'] == pollutant].loc['annual', 'damage']"
   ]
  },
  {
   "cell_type": "code",
   "execution_count": 14,
   "metadata": {
    "collapsed": false
   },
   "outputs": [
    {
     "data": {
      "text/plain": [
       "season\n",
       "annual    1.000000\n",
       "fall      1.276576\n",
       "spring    1.160923\n",
       "summer    0.427730\n",
       "winter    1.134772\n",
       "Name: damage, dtype: float64"
      ]
     },
     "execution_count": 14,
     "metadata": {},
     "output_type": "execute_result"
    }
   ],
   "source": [
    "pollutant = 'nox'\n",
    "df[df['pollutant'] == pollutant]['damage'] / df[df['pollutant'] == pollutant].loc['annual', 'damage']"
   ]
  },
  {
   "cell_type": "code",
   "execution_count": 15,
   "metadata": {
    "collapsed": false
   },
   "outputs": [
    {
     "data": {
      "text/plain": [
       "season\n",
       "annual    1.000000\n",
       "fall      0.650097\n",
       "spring    1.347286\n",
       "summer    1.379642\n",
       "winter    0.622975\n",
       "Name: damage, dtype: float64"
      ]
     },
     "execution_count": 15,
     "metadata": {},
     "output_type": "execute_result"
    }
   ],
   "source": [
    "pollutant = 'so2'\n",
    "df[df['pollutant'] == pollutant]['damage'] / df[df['pollutant'] == pollutant].loc['annual', 'damage']"
   ]
  },
  {
   "cell_type": "code",
   "execution_count": 16,
   "metadata": {
    "collapsed": false
   },
   "outputs": [
    {
     "data": {
      "text/html": [
       "<div>\n",
       "<style scoped>\n",
       "    .dataframe tbody tr th:only-of-type {\n",
       "        vertical-align: middle;\n",
       "    }\n",
       "\n",
       "    .dataframe tbody tr th {\n",
       "        vertical-align: top;\n",
       "    }\n",
       "\n",
       "    .dataframe thead th {\n",
       "        text-align: right;\n",
       "    }\n",
       "</style>\n",
       "<table border=\"1\" class=\"dataframe\">\n",
       "  <thead>\n",
       "    <tr style=\"text-align: right;\">\n",
       "      <th></th>\n",
       "      <th>\\so</th>\n",
       "      <th>\\nox</th>\n",
       "      <th>\\partic</th>\n",
       "    </tr>\n",
       "    <tr>\n",
       "      <th>season</th>\n",
       "      <th></th>\n",
       "      <th></th>\n",
       "      <th></th>\n",
       "    </tr>\n",
       "  </thead>\n",
       "  <tbody>\n",
       "    <tr>\n",
       "      <th>fall</th>\n",
       "      <td>65</td>\n",
       "      <td>127</td>\n",
       "      <td>89</td>\n",
       "    </tr>\n",
       "    <tr>\n",
       "      <th>spring</th>\n",
       "      <td>134</td>\n",
       "      <td>116</td>\n",
       "      <td>101</td>\n",
       "    </tr>\n",
       "    <tr>\n",
       "      <th>summer</th>\n",
       "      <td>137</td>\n",
       "      <td>42</td>\n",
       "      <td>106</td>\n",
       "    </tr>\n",
       "    <tr>\n",
       "      <th>winter</th>\n",
       "      <td>62</td>\n",
       "      <td>113</td>\n",
       "      <td>103</td>\n",
       "    </tr>\n",
       "  </tbody>\n",
       "</table>\n",
       "</div>"
      ],
      "text/plain": [
       "        \\so  \\nox  \\partic\n",
       "season                    \n",
       "fall     65   127       89\n",
       "spring  134   116      101\n",
       "summer  137    42      106\n",
       "winter   62   113      103"
      ]
     },
     "execution_count": 16,
     "metadata": {},
     "output_type": "execute_result"
    }
   ],
   "source": [
    "df_summary2 = \\\n",
    "    pd.concat([df[df['pollutant'] == pollutant]['damage'] / df[df['pollutant'] == pollutant].loc['annual', 'damage']\n",
    "           for pollutant in ['so2', 'nox', 'pm25']], axis=1).drop('annual')\n",
    "df_summary2 = (df_summary2 * 100).astype(int)\n",
    "df_summary2.columns = ['\\so', '\\\\nox', '\\partic']\n",
    "df_summary2"
   ]
  },
  {
   "cell_type": "code",
   "execution_count": 17,
   "metadata": {
    "collapsed": false
   },
   "outputs": [
    {
     "name": "stdout",
     "output_type": "stream",
     "text": [
      "\\begin{tabular}{lrrr}\n",
      "\\toprule\n",
      "{} &  \\textbackslash so &  \\textbackslash nox &  \\textbackslash partic \\\\\n",
      "season &      &       &          \\\\\n",
      "\\midrule\n",
      "fall   &   65 &   127 &       89 \\\\\n",
      "spring &  134 &   116 &      101 \\\\\n",
      "summer &  137 &    42 &      106 \\\\\n",
      "winter &   62 &   113 &      103 \\\\\n",
      "\\bottomrule\n",
      "\\end{tabular}\n",
      "\n"
     ]
    }
   ],
   "source": [
    "print(df_summary2.to_latex())"
   ]
  }
 ],
 "metadata": {
  "kernelspec": {
   "display_name": "py35",
   "language": "python",
   "name": "py35"
  },
  "language_info": {
   "codemirror_mode": {
    "name": "ipython",
    "version": 3
   },
   "file_extension": ".py",
   "mimetype": "text/x-python",
   "name": "python",
   "nbconvert_exporter": "python",
   "pygments_lexer": "ipython3",
   "version": "3.5.2"
  }
 },
 "nbformat": 4,
 "nbformat_minor": 2
}

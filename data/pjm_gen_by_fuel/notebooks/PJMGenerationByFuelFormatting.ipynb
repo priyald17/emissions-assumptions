{
 "cells": [
  {
   "cell_type": "markdown",
   "metadata": {},
   "source": [
    "# <center> PJM Generation by Fuel: Data Processing </center> "
   ]
  },
  {
   "cell_type": "code",
   "execution_count": 1,
   "metadata": {
    "collapsed": true
   },
   "outputs": [],
   "source": [
    "import pandas as pd\n",
    "import os\n",
    "import datetime"
   ]
  },
  {
   "cell_type": "markdown",
   "metadata": {},
   "source": [
    "## Read in and format data "
   ]
  },
  {
   "cell_type": "code",
   "execution_count": 2,
   "metadata": {
    "collapsed": false
   },
   "outputs": [],
   "source": [
    "gen_by_fuel_df = pd.read_csv(os.path.join(os.pardir, 'raw_data', 'gen_by_fuel.csv'), index_col=0, parse_dates=[0])\n",
    "gen_by_fuel_df.drop('datetime_beginning_ept', axis=1, inplace=True)\n",
    "gen_by_fuel_df.index.name = 'DATE_UTC'"
   ]
  },
  {
   "cell_type": "code",
   "execution_count": 3,
   "metadata": {
    "collapsed": true
   },
   "outputs": [],
   "source": [
    "# actually need to put in UTC-5\n",
    "gen_by_fuel_df.index = gen_by_fuel_df.index + datetime.timedelta(hours=-5)"
   ]
  },
  {
   "cell_type": "code",
   "execution_count": 4,
   "metadata": {
    "collapsed": false
   },
   "outputs": [],
   "source": [
    "gen_by_fuel_df = gen_by_fuel_df.sort_index()\n",
    "gen_by_fuel_df.columns = ['FUEL_TYPE', 'Generation (MW)', 'PERCENT_TOTAL', 'IS_RENEWABLE']"
   ]
  },
  {
   "cell_type": "code",
   "execution_count": 5,
   "metadata": {
    "collapsed": false
   },
   "outputs": [
    {
     "data": {
      "text/html": [
       "<div>\n",
       "<style scoped>\n",
       "    .dataframe tbody tr th:only-of-type {\n",
       "        vertical-align: middle;\n",
       "    }\n",
       "\n",
       "    .dataframe tbody tr th {\n",
       "        vertical-align: top;\n",
       "    }\n",
       "\n",
       "    .dataframe thead th {\n",
       "        text-align: right;\n",
       "    }\n",
       "</style>\n",
       "<table border=\"1\" class=\"dataframe\">\n",
       "  <thead>\n",
       "    <tr style=\"text-align: right;\">\n",
       "      <th></th>\n",
       "      <th>FUEL_TYPE</th>\n",
       "      <th>Generation (MW)</th>\n",
       "      <th>PERCENT_TOTAL</th>\n",
       "      <th>IS_RENEWABLE</th>\n",
       "    </tr>\n",
       "    <tr>\n",
       "      <th>DATE_UTC</th>\n",
       "      <th></th>\n",
       "      <th></th>\n",
       "      <th></th>\n",
       "      <th></th>\n",
       "    </tr>\n",
       "  </thead>\n",
       "  <tbody>\n",
       "    <tr>\n",
       "      <th>2015-01-01 00:00:00</th>\n",
       "      <td>Other</td>\n",
       "      <td>96035.3</td>\n",
       "      <td>1.0</td>\n",
       "      <td>False</td>\n",
       "    </tr>\n",
       "    <tr>\n",
       "      <th>2015-01-01 01:00:00</th>\n",
       "      <td>Other</td>\n",
       "      <td>93448.1</td>\n",
       "      <td>1.0</td>\n",
       "      <td>False</td>\n",
       "    </tr>\n",
       "    <tr>\n",
       "      <th>2015-01-01 02:00:00</th>\n",
       "      <td>Other</td>\n",
       "      <td>91809.4</td>\n",
       "      <td>1.0</td>\n",
       "      <td>False</td>\n",
       "    </tr>\n",
       "    <tr>\n",
       "      <th>2015-01-01 03:00:00</th>\n",
       "      <td>Other</td>\n",
       "      <td>90742.9</td>\n",
       "      <td>1.0</td>\n",
       "      <td>False</td>\n",
       "    </tr>\n",
       "    <tr>\n",
       "      <th>2015-01-01 04:00:00</th>\n",
       "      <td>Other</td>\n",
       "      <td>90409.2</td>\n",
       "      <td>1.0</td>\n",
       "      <td>False</td>\n",
       "    </tr>\n",
       "  </tbody>\n",
       "</table>\n",
       "</div>"
      ],
      "text/plain": [
       "                    FUEL_TYPE  Generation (MW)  PERCENT_TOTAL  IS_RENEWABLE\n",
       "DATE_UTC                                                                   \n",
       "2015-01-01 00:00:00     Other          96035.3            1.0         False\n",
       "2015-01-01 01:00:00     Other          93448.1            1.0         False\n",
       "2015-01-01 02:00:00     Other          91809.4            1.0         False\n",
       "2015-01-01 03:00:00     Other          90742.9            1.0         False\n",
       "2015-01-01 04:00:00     Other          90409.2            1.0         False"
      ]
     },
     "execution_count": 5,
     "metadata": {},
     "output_type": "execute_result"
    }
   ],
   "source": [
    "gen_by_fuel_df.head()"
   ]
  },
  {
   "cell_type": "code",
   "execution_count": 6,
   "metadata": {
    "collapsed": false
   },
   "outputs": [
    {
     "data": {
      "text/html": [
       "<div>\n",
       "<style scoped>\n",
       "    .dataframe tbody tr th:only-of-type {\n",
       "        vertical-align: middle;\n",
       "    }\n",
       "\n",
       "    .dataframe tbody tr th {\n",
       "        vertical-align: top;\n",
       "    }\n",
       "\n",
       "    .dataframe thead th {\n",
       "        text-align: right;\n",
       "    }\n",
       "</style>\n",
       "<table border=\"1\" class=\"dataframe\">\n",
       "  <thead>\n",
       "    <tr style=\"text-align: right;\">\n",
       "      <th></th>\n",
       "      <th>Generation (MW)</th>\n",
       "      <th>PERCENT_TOTAL</th>\n",
       "      <th>IS_RENEWABLE</th>\n",
       "    </tr>\n",
       "    <tr>\n",
       "      <th>FUEL_TYPE</th>\n",
       "      <th></th>\n",
       "      <th></th>\n",
       "      <th></th>\n",
       "    </tr>\n",
       "  </thead>\n",
       "  <tbody>\n",
       "    <tr>\n",
       "      <th>Coal</th>\n",
       "      <td>29595.754934</td>\n",
       "      <td>0.317774</td>\n",
       "      <td>False</td>\n",
       "    </tr>\n",
       "    <tr>\n",
       "      <th>Flywheel</th>\n",
       "      <td>0.000000</td>\n",
       "      <td>0.000000</td>\n",
       "      <td>False</td>\n",
       "    </tr>\n",
       "    <tr>\n",
       "      <th>Gas</th>\n",
       "      <td>23056.781469</td>\n",
       "      <td>0.248543</td>\n",
       "      <td>False</td>\n",
       "    </tr>\n",
       "    <tr>\n",
       "      <th>Hydro</th>\n",
       "      <td>1544.946811</td>\n",
       "      <td>0.015982</td>\n",
       "      <td>True</td>\n",
       "    </tr>\n",
       "    <tr>\n",
       "      <th>Multiple Fuels</th>\n",
       "      <td>816.320523</td>\n",
       "      <td>0.008319</td>\n",
       "      <td>False</td>\n",
       "    </tr>\n",
       "    <tr>\n",
       "      <th>Nuclear</th>\n",
       "      <td>32329.479566</td>\n",
       "      <td>0.360474</td>\n",
       "      <td>False</td>\n",
       "    </tr>\n",
       "    <tr>\n",
       "      <th>Oil</th>\n",
       "      <td>304.540705</td>\n",
       "      <td>0.001273</td>\n",
       "      <td>False</td>\n",
       "    </tr>\n",
       "    <tr>\n",
       "      <th>Other</th>\n",
       "      <td>1040.272778</td>\n",
       "      <td>0.010600</td>\n",
       "      <td>False</td>\n",
       "    </tr>\n",
       "    <tr>\n",
       "      <th>Other Renewables</th>\n",
       "      <td>623.031903</td>\n",
       "      <td>0.004876</td>\n",
       "      <td>True</td>\n",
       "    </tr>\n",
       "    <tr>\n",
       "      <th>Solar</th>\n",
       "      <td>101.804639</td>\n",
       "      <td>0.000449</td>\n",
       "      <td>True</td>\n",
       "    </tr>\n",
       "    <tr>\n",
       "      <th>Storage</th>\n",
       "      <td>0.049100</td>\n",
       "      <td>0.000000</td>\n",
       "      <td>False</td>\n",
       "    </tr>\n",
       "    <tr>\n",
       "      <th>Wind</th>\n",
       "      <td>2277.919720</td>\n",
       "      <td>0.025685</td>\n",
       "      <td>True</td>\n",
       "    </tr>\n",
       "  </tbody>\n",
       "</table>\n",
       "</div>"
      ],
      "text/plain": [
       "                  Generation (MW)  PERCENT_TOTAL  IS_RENEWABLE\n",
       "FUEL_TYPE                                                     \n",
       "Coal                 29595.754934       0.317774         False\n",
       "Flywheel                 0.000000       0.000000         False\n",
       "Gas                  23056.781469       0.248543         False\n",
       "Hydro                 1544.946811       0.015982          True\n",
       "Multiple Fuels         816.320523       0.008319         False\n",
       "Nuclear              32329.479566       0.360474         False\n",
       "Oil                    304.540705       0.001273         False\n",
       "Other                 1040.272778       0.010600         False\n",
       "Other Renewables       623.031903       0.004876          True\n",
       "Solar                  101.804639       0.000449          True\n",
       "Storage                  0.049100       0.000000         False\n",
       "Wind                  2277.919720       0.025685          True"
      ]
     },
     "execution_count": 6,
     "metadata": {},
     "output_type": "execute_result"
    }
   ],
   "source": [
    "# Take a look at averages\n",
    "gen_by_fuel_df.loc['2016-01-01':].groupby('FUEL_TYPE').mean()"
   ]
  },
  {
   "cell_type": "code",
   "execution_count": 7,
   "metadata": {
    "collapsed": true
   },
   "outputs": [],
   "source": [
    "gen_by_fuel_df = pd.DataFrame(gen_by_fuel_df.loc['2016-01-01':])"
   ]
  },
  {
   "cell_type": "markdown",
   "metadata": {},
   "source": [
    "## Verify data "
   ]
  },
  {
   "cell_type": "code",
   "execution_count": 8,
   "metadata": {
    "collapsed": false
   },
   "outputs": [
    {
     "data": {
      "text/html": [
       "<div>\n",
       "<style scoped>\n",
       "    .dataframe tbody tr th:only-of-type {\n",
       "        vertical-align: middle;\n",
       "    }\n",
       "\n",
       "    .dataframe tbody tr th {\n",
       "        vertical-align: top;\n",
       "    }\n",
       "\n",
       "    .dataframe thead th {\n",
       "        text-align: right;\n",
       "    }\n",
       "</style>\n",
       "<table border=\"1\" class=\"dataframe\">\n",
       "  <thead>\n",
       "    <tr style=\"text-align: right;\">\n",
       "      <th></th>\n",
       "      <th>Generation (MW)</th>\n",
       "      <th>PERCENT_TOTAL</th>\n",
       "      <th>IS_RENEWABLE</th>\n",
       "    </tr>\n",
       "    <tr>\n",
       "      <th>DATE_UTC</th>\n",
       "      <th></th>\n",
       "      <th></th>\n",
       "      <th></th>\n",
       "    </tr>\n",
       "  </thead>\n",
       "  <tbody>\n",
       "    <tr>\n",
       "      <th>2016-02-03 00:00:00</th>\n",
       "      <td>0.0</td>\n",
       "      <td>0.0</td>\n",
       "      <td>0.0</td>\n",
       "    </tr>\n",
       "    <tr>\n",
       "      <th>2016-02-03 01:00:00</th>\n",
       "      <td>0.0</td>\n",
       "      <td>0.0</td>\n",
       "      <td>0.0</td>\n",
       "    </tr>\n",
       "    <tr>\n",
       "      <th>2016-02-03 02:00:00</th>\n",
       "      <td>0.0</td>\n",
       "      <td>0.0</td>\n",
       "      <td>0.0</td>\n",
       "    </tr>\n",
       "    <tr>\n",
       "      <th>2016-02-03 03:00:00</th>\n",
       "      <td>0.0</td>\n",
       "      <td>0.0</td>\n",
       "      <td>0.0</td>\n",
       "    </tr>\n",
       "    <tr>\n",
       "      <th>2016-02-03 04:00:00</th>\n",
       "      <td>0.0</td>\n",
       "      <td>0.0</td>\n",
       "      <td>0.0</td>\n",
       "    </tr>\n",
       "  </tbody>\n",
       "</table>\n",
       "</div>"
      ],
      "text/plain": [
       "                     Generation (MW)  PERCENT_TOTAL  IS_RENEWABLE\n",
       "DATE_UTC                                                         \n",
       "2016-02-03 00:00:00              0.0            0.0           0.0\n",
       "2016-02-03 01:00:00              0.0            0.0           0.0\n",
       "2016-02-03 02:00:00              0.0            0.0           0.0\n",
       "2016-02-03 03:00:00              0.0            0.0           0.0\n",
       "2016-02-03 04:00:00              0.0            0.0           0.0"
      ]
     },
     "execution_count": 8,
     "metadata": {},
     "output_type": "execute_result"
    }
   ],
   "source": [
    "# A bunch of data points have zeros\n",
    "totals = gen_by_fuel_df.groupby(gen_by_fuel_df.index).sum()\n",
    "totals[(totals['PERCENT_TOTAL'] > 1.02) | (totals['PERCENT_TOTAL'] < 0.97)].head()"
   ]
  },
  {
   "cell_type": "code",
   "execution_count": 9,
   "metadata": {
    "collapsed": false
   },
   "outputs": [],
   "source": [
    "# Drop zeros\n",
    "gen_by_fuel_df = gen_by_fuel_df.drop(totals[totals['Generation (MW)'] == 0].index)"
   ]
  },
  {
   "cell_type": "code",
   "execution_count": 10,
   "metadata": {
    "collapsed": false
   },
   "outputs": [
    {
     "data": {
      "text/html": [
       "<div>\n",
       "<style scoped>\n",
       "    .dataframe tbody tr th:only-of-type {\n",
       "        vertical-align: middle;\n",
       "    }\n",
       "\n",
       "    .dataframe tbody tr th {\n",
       "        vertical-align: top;\n",
       "    }\n",
       "\n",
       "    .dataframe thead th {\n",
       "        text-align: right;\n",
       "    }\n",
       "</style>\n",
       "<table border=\"1\" class=\"dataframe\">\n",
       "  <thead>\n",
       "    <tr style=\"text-align: right;\">\n",
       "      <th></th>\n",
       "      <th>Generation (MW)</th>\n",
       "      <th>PERCENT_TOTAL</th>\n",
       "      <th>IS_RENEWABLE</th>\n",
       "    </tr>\n",
       "    <tr>\n",
       "      <th>DATE_UTC</th>\n",
       "      <th></th>\n",
       "      <th></th>\n",
       "      <th></th>\n",
       "    </tr>\n",
       "  </thead>\n",
       "  <tbody>\n",
       "    <tr>\n",
       "      <th>2016-01-01 00:00:00</th>\n",
       "      <td>77359.0</td>\n",
       "      <td>1.01</td>\n",
       "      <td>4.0</td>\n",
       "    </tr>\n",
       "    <tr>\n",
       "      <th>2016-01-01 03:00:00</th>\n",
       "      <td>74021.7</td>\n",
       "      <td>1.01</td>\n",
       "      <td>4.0</td>\n",
       "    </tr>\n",
       "    <tr>\n",
       "      <th>2016-01-01 04:00:00</th>\n",
       "      <td>73874.1</td>\n",
       "      <td>1.01</td>\n",
       "      <td>4.0</td>\n",
       "    </tr>\n",
       "    <tr>\n",
       "      <th>2016-01-01 05:00:00</th>\n",
       "      <td>75140.7</td>\n",
       "      <td>1.01</td>\n",
       "      <td>4.0</td>\n",
       "    </tr>\n",
       "    <tr>\n",
       "      <th>2016-01-01 06:00:00</th>\n",
       "      <td>74510.9</td>\n",
       "      <td>1.01</td>\n",
       "      <td>4.0</td>\n",
       "    </tr>\n",
       "  </tbody>\n",
       "</table>\n",
       "</div>"
      ],
      "text/plain": [
       "                     Generation (MW)  PERCENT_TOTAL  IS_RENEWABLE\n",
       "DATE_UTC                                                         \n",
       "2016-01-01 00:00:00          77359.0           1.01           4.0\n",
       "2016-01-01 03:00:00          74021.7           1.01           4.0\n",
       "2016-01-01 04:00:00          73874.1           1.01           4.0\n",
       "2016-01-01 05:00:00          75140.7           1.01           4.0\n",
       "2016-01-01 06:00:00          74510.9           1.01           4.0"
      ]
     },
     "execution_count": 10,
     "metadata": {},
     "output_type": "execute_result"
    }
   ],
   "source": [
    "# Data points aren't exactly 100% percent total (though all close), so we'll scale them\n",
    "totals = gen_by_fuel_df.groupby(gen_by_fuel_df.index).sum()\n",
    "totals[(totals['PERCENT_TOTAL'] > 1.005) | (totals['PERCENT_TOTAL'] < 0.995)].head()"
   ]
  },
  {
   "cell_type": "markdown",
   "metadata": {},
   "source": [
    "## Scale percentages (which are all close to but not all quite 100%) "
   ]
  },
  {
   "cell_type": "code",
   "execution_count": 11,
   "metadata": {
    "collapsed": false
   },
   "outputs": [],
   "source": [
    "gen_scaled = \\\n",
    "    gen_by_fuel_df.groupby(gen_by_fuel_df.index).apply(lambda x: x['Generation (MW)']/(x['PERCENT_TOTAL'].sum()))\n",
    "pct_scaled = \\\n",
    "    gen_by_fuel_df.groupby(gen_by_fuel_df.index).apply(lambda x: x['PERCENT_TOTAL']/(x['PERCENT_TOTAL'].sum()))"
   ]
  },
  {
   "cell_type": "code",
   "execution_count": 12,
   "metadata": {
    "collapsed": false
   },
   "outputs": [],
   "source": [
    "gen_scaled.index = gen_by_fuel_df.index\n",
    "pct_scaled.index = gen_by_fuel_df.index"
   ]
  },
  {
   "cell_type": "code",
   "execution_count": 13,
   "metadata": {
    "collapsed": true
   },
   "outputs": [],
   "source": [
    "gen_by_fuel_df['Generation (MW)'] = gen_scaled\n",
    "gen_by_fuel_df['PERCENT_TOTAL']   = pct_scaled"
   ]
  },
  {
   "cell_type": "markdown",
   "metadata": {},
   "source": [
    "## Verify that percentages are correct "
   ]
  },
  {
   "cell_type": "code",
   "execution_count": 14,
   "metadata": {
    "collapsed": false
   },
   "outputs": [],
   "source": [
    "# Our calculation of percentage\n",
    "percent_calc = gen_by_fuel_df.groupby(gen_by_fuel_df.index)['PERCENT_TOTAL'].apply(lambda x: x/x.sum())"
   ]
  },
  {
   "cell_type": "code",
   "execution_count": 15,
   "metadata": {
    "collapsed": true
   },
   "outputs": [],
   "source": [
    "# PJM's calculation of percentage\n",
    "percent_rep = gen_by_fuel_df['PERCENT_TOTAL']"
   ]
  },
  {
   "cell_type": "code",
   "execution_count": 16,
   "metadata": {
    "collapsed": false
   },
   "outputs": [
    {
     "name": "stdout",
     "output_type": "stream",
     "text": [
      "1.6653345369377348e-16\n",
      "-1.1102230246251565e-16\n",
      "1.4403060946217052e-18\n",
      "1.399623586247929e-17\n"
     ]
    }
   ],
   "source": [
    "# They look close to each other, so we'll keep PJM's reported percentages\n",
    "diffs = percent_calc - percent_rep\n",
    "print(diffs.max())\n",
    "print(diffs.min())\n",
    "print(diffs.mean())\n",
    "print(diffs.std())"
   ]
  },
  {
   "cell_type": "markdown",
   "metadata": {},
   "source": [
    "## Reindex "
   ]
  },
  {
   "cell_type": "code",
   "execution_count": 17,
   "metadata": {
    "collapsed": false
   },
   "outputs": [],
   "source": [
    "gen_by_fuel_df = gen_by_fuel_df.set_index([gen_by_fuel_df.index, 'FUEL_TYPE'])"
   ]
  },
  {
   "cell_type": "code",
   "execution_count": 18,
   "metadata": {
    "collapsed": false
   },
   "outputs": [],
   "source": [
    "# For all hours and dates\n",
    "date_range = pd.date_range(start='2016-01-01 05:00', end='2018-01-01 5:00', freq='H')\n",
    "fuel_types = gen_by_fuel_df.index.get_level_values('FUEL_TYPE').unique()\n",
    "multi_idx = pd.MultiIndex.from_product([date_range, fuel_types], names=['DATE_UTC', 'FUEL_TYPE'])"
   ]
  },
  {
   "cell_type": "code",
   "execution_count": 19,
   "metadata": {
    "collapsed": false
   },
   "outputs": [],
   "source": [
    "gen_by_fuel_df = gen_by_fuel_df.reindex(multi_idx).sort_index()"
   ]
  }
 ],
 "metadata": {
  "anaconda-cloud": {},
  "kernelspec": {
   "display_name": "py35",
   "language": "python",
   "name": "py35"
  },
  "language_info": {
   "codemirror_mode": {
    "name": "ipython",
    "version": 3
   },
   "file_extension": ".py",
   "mimetype": "text/x-python",
   "name": "python",
   "nbconvert_exporter": "python",
   "pygments_lexer": "ipython3",
   "version": "3.5.2"
  }
 },
 "nbformat": 4,
 "nbformat_minor": 2
}

{
 "cells": [
  {
   "cell_type": "markdown",
   "metadata": {},
   "source": [
    "# <center> Marginal Fuels: Data Processing </center> "
   ]
  },
  {
   "cell_type": "markdown",
   "metadata": {},
   "source": [
    "## Read in data "
   ]
  },
  {
   "cell_type": "markdown",
   "metadata": {},
   "source": [
    "Read in marginal fuel proportions for PJM.  \n",
    "Data from Monitoring Analytics, via PJM's data directory: http://www.monitoringanalytics.com/data/marginal_fuel.shtml"
   ]
  },
  {
   "cell_type": "code",
   "execution_count": 1,
   "metadata": {
    "collapsed": true
   },
   "outputs": [],
   "source": [
    "import pandas as pd\n",
    "from datetime import datetime, timedelta\n",
    "import os\n",
    "import re"
   ]
  },
  {
   "cell_type": "code",
   "execution_count": 2,
   "metadata": {
    "collapsed": true
   },
   "outputs": [],
   "source": [
    "# Files have a nonstandard date format, so specify format\n",
    "def date_parser(key):\n",
    "    # Try both different datetime formats the raw data files use.\n",
    "    try:\n",
    "        dt = datetime.strptime(key, '%d%b%Y:%H:%M:%S')\n",
    "    except ValueError:\n",
    "        dt = datetime.strptime(key, '%d%b%y:%H:%M:%S')\n",
    "    return dt\n",
    "\n",
    "# If input value is a percentage, convert to proportion.\n",
    "def convert_percent(value):\n",
    "    matching = re.compile('(\\d+.\\d+)%').match(str(value))\n",
    "    return float(matching.group(1))/100 if matching else value"
   ]
  },
  {
   "cell_type": "code",
   "execution_count": 3,
   "metadata": {
    "collapsed": true
   },
   "outputs": [],
   "source": [
    "# Some fuels have different names from year to year. Construct a mapping.\n",
    "fuel_renaming_dict = {'Lfg': 'Land Fill Gas', 'Miscellaneous': 'Misc', 'Msw': 'Municipal Waste'}"
   ]
  },
  {
   "cell_type": "code",
   "execution_count": 4,
   "metadata": {
    "collapsed": false
   },
   "outputs": [
    {
     "name": "stdout",
     "output_type": "stream",
     "text": [
      "2016\n",
      "2017\n",
      "Finished\n"
     ]
    }
   ],
   "source": [
    "# Read in data\n",
    "have_created_full_df = False\n",
    "for year in range(2016, 2018):\n",
    "    print(year)\n",
    "    for month in range(1, 13):\n",
    "        filepath = os.path.join(os.pardir, 'raw_data', str(year), '{0:}{1:02d}_Marginal_Fuel_Postings.csv'.format(year, month))\n",
    "        df = pd.read_csv(filepath, index_col=0, parse_dates=[0], usecols=[0,1,2,3], date_parser=date_parser)\n",
    "        df.columns = ['tz', 'FUEL_TYPE', 'PERCENT_MARGINAL'] # For consistency from year to year\n",
    "        \n",
    "        # In case we're given percentages (as in some years), convert to proportions.\n",
    "        df['PERCENT_MARGINAL'] = df['PERCENT_MARGINAL'].map(convert_percent)\n",
    "        \n",
    "        # Standardize fuel type names across years (title case and consistent naming)\n",
    "        df['FUEL_TYPE'] = df['FUEL_TYPE'].map(lambda x: x.lower().title())\n",
    "        # Get renaming if it exists, otherwise return the existing string\n",
    "        df['FUEL_TYPE'] = df['FUEL_TYPE'].map(lambda x: fuel_renaming_dict.get(x, x))\n",
    "    \n",
    "        if have_created_full_df:\n",
    "            marg_fuels = pd.concat([marg_fuels, df], axis=0)\n",
    "        else:\n",
    "            marg_fuels = df.copy()\n",
    "            have_created_full_df = True\n",
    "print('Finished')"
   ]
  },
  {
   "cell_type": "code",
   "execution_count": 5,
   "metadata": {
    "collapsed": false
   },
   "outputs": [
    {
     "data": {
      "text/html": [
       "<div>\n",
       "<style scoped>\n",
       "    .dataframe tbody tr th:only-of-type {\n",
       "        vertical-align: middle;\n",
       "    }\n",
       "\n",
       "    .dataframe tbody tr th {\n",
       "        vertical-align: top;\n",
       "    }\n",
       "\n",
       "    .dataframe thead th {\n",
       "        text-align: right;\n",
       "    }\n",
       "</style>\n",
       "<table border=\"1\" class=\"dataframe\">\n",
       "  <thead>\n",
       "    <tr style=\"text-align: right;\">\n",
       "      <th></th>\n",
       "      <th>tz</th>\n",
       "      <th>FUEL_TYPE</th>\n",
       "      <th>PERCENT_MARGINAL</th>\n",
       "    </tr>\n",
       "    <tr>\n",
       "      <th>HOUR</th>\n",
       "      <th></th>\n",
       "      <th></th>\n",
       "      <th></th>\n",
       "    </tr>\n",
       "  </thead>\n",
       "  <tbody>\n",
       "    <tr>\n",
       "      <th>2016-01-01 00:00:00</th>\n",
       "      <td>EST</td>\n",
       "      <td>Coal</td>\n",
       "      <td>0.2353</td>\n",
       "    </tr>\n",
       "    <tr>\n",
       "      <th>2016-01-01 00:00:00</th>\n",
       "      <td>EST</td>\n",
       "      <td>Natural Gas</td>\n",
       "      <td>0.4706</td>\n",
       "    </tr>\n",
       "    <tr>\n",
       "      <th>2016-01-01 00:00:00</th>\n",
       "      <td>EST</td>\n",
       "      <td>Wind</td>\n",
       "      <td>0.2941</td>\n",
       "    </tr>\n",
       "    <tr>\n",
       "      <th>2016-01-01 01:00:00</th>\n",
       "      <td>EST</td>\n",
       "      <td>Natural Gas</td>\n",
       "      <td>0.8000</td>\n",
       "    </tr>\n",
       "    <tr>\n",
       "      <th>2016-01-01 01:00:00</th>\n",
       "      <td>EST</td>\n",
       "      <td>Wind</td>\n",
       "      <td>0.2000</td>\n",
       "    </tr>\n",
       "  </tbody>\n",
       "</table>\n",
       "</div>"
      ],
      "text/plain": [
       "                      tz    FUEL_TYPE  PERCENT_MARGINAL\n",
       "HOUR                                                   \n",
       "2016-01-01 00:00:00  EST         Coal            0.2353\n",
       "2016-01-01 00:00:00  EST  Natural Gas            0.4706\n",
       "2016-01-01 00:00:00  EST         Wind            0.2941\n",
       "2016-01-01 01:00:00  EST  Natural Gas            0.8000\n",
       "2016-01-01 01:00:00  EST         Wind            0.2000"
      ]
     },
     "execution_count": 5,
     "metadata": {},
     "output_type": "execute_result"
    }
   ],
   "source": [
    "marg_fuels.head()"
   ]
  },
  {
   "cell_type": "code",
   "execution_count": 6,
   "metadata": {
    "collapsed": false
   },
   "outputs": [
    {
     "data": {
      "text/plain": [
       "array(['Coal', 'Natural Gas', 'Wind', 'Land Fill Gas', 'Solar',\n",
       "       'Municipal Waste', 'Waste Coal', 'Misc', 'Light Oil', 'Diesel',\n",
       "       'Heavy Oil', 'Min Gen/Dispatch Reset', 'Kerosene', 'Missing Data',\n",
       "       'Uranium', 'Propane'], dtype=object)"
      ]
     },
     "execution_count": 6,
     "metadata": {},
     "output_type": "execute_result"
    }
   ],
   "source": [
    "marg_fuels['FUEL_TYPE'].unique()"
   ]
  },
  {
   "cell_type": "code",
   "execution_count": 7,
   "metadata": {
    "collapsed": false
   },
   "outputs": [
    {
     "data": {
      "text/html": [
       "<div>\n",
       "<style scoped>\n",
       "    .dataframe tbody tr th:only-of-type {\n",
       "        vertical-align: middle;\n",
       "    }\n",
       "\n",
       "    .dataframe tbody tr th {\n",
       "        vertical-align: top;\n",
       "    }\n",
       "\n",
       "    .dataframe thead th {\n",
       "        text-align: right;\n",
       "    }\n",
       "</style>\n",
       "<table border=\"1\" class=\"dataframe\">\n",
       "  <thead>\n",
       "    <tr style=\"text-align: right;\">\n",
       "      <th></th>\n",
       "      <th>PERCENT_MARGINAL</th>\n",
       "    </tr>\n",
       "    <tr>\n",
       "      <th>FUEL_TYPE</th>\n",
       "      <th></th>\n",
       "    </tr>\n",
       "  </thead>\n",
       "  <tbody>\n",
       "    <tr>\n",
       "      <th>Coal</th>\n",
       "      <td>0.804108</td>\n",
       "    </tr>\n",
       "    <tr>\n",
       "      <th>Diesel</th>\n",
       "      <td>0.015416</td>\n",
       "    </tr>\n",
       "    <tr>\n",
       "      <th>Heavy Oil</th>\n",
       "      <td>0.000803</td>\n",
       "    </tr>\n",
       "    <tr>\n",
       "      <th>Kerosene</th>\n",
       "      <td>0.000321</td>\n",
       "    </tr>\n",
       "    <tr>\n",
       "      <th>Land Fill Gas</th>\n",
       "      <td>0.001843</td>\n",
       "    </tr>\n",
       "    <tr>\n",
       "      <th>Light Oil</th>\n",
       "      <td>0.106872</td>\n",
       "    </tr>\n",
       "    <tr>\n",
       "      <th>Min Gen/Dispatch Reset</th>\n",
       "      <td>0.001732</td>\n",
       "    </tr>\n",
       "    <tr>\n",
       "      <th>Misc</th>\n",
       "      <td>0.003852</td>\n",
       "    </tr>\n",
       "    <tr>\n",
       "      <th>Missing Data</th>\n",
       "      <td>0.000159</td>\n",
       "    </tr>\n",
       "    <tr>\n",
       "      <th>Municipal Waste</th>\n",
       "      <td>0.000198</td>\n",
       "    </tr>\n",
       "    <tr>\n",
       "      <th>Natural Gas</th>\n",
       "      <td>0.901882</td>\n",
       "    </tr>\n",
       "    <tr>\n",
       "      <th>Propane</th>\n",
       "      <td>0.000016</td>\n",
       "    </tr>\n",
       "    <tr>\n",
       "      <th>Solar</th>\n",
       "      <td>0.001974</td>\n",
       "    </tr>\n",
       "    <tr>\n",
       "      <th>Uranium</th>\n",
       "      <td>0.044763</td>\n",
       "    </tr>\n",
       "    <tr>\n",
       "      <th>Waste Coal</th>\n",
       "      <td>0.008079</td>\n",
       "    </tr>\n",
       "    <tr>\n",
       "      <th>Wind</th>\n",
       "      <td>0.105244</td>\n",
       "    </tr>\n",
       "  </tbody>\n",
       "</table>\n",
       "</div>"
      ],
      "text/plain": [
       "                        PERCENT_MARGINAL\n",
       "FUEL_TYPE                               \n",
       "Coal                            0.804108\n",
       "Diesel                          0.015416\n",
       "Heavy Oil                       0.000803\n",
       "Kerosene                        0.000321\n",
       "Land Fill Gas                   0.001843\n",
       "Light Oil                       0.106872\n",
       "Min Gen/Dispatch Reset          0.001732\n",
       "Misc                            0.003852\n",
       "Missing Data                    0.000159\n",
       "Municipal Waste                 0.000198\n",
       "Natural Gas                     0.901882\n",
       "Propane                         0.000016\n",
       "Solar                           0.001974\n",
       "Uranium                         0.044763\n",
       "Waste Coal                      0.008079\n",
       "Wind                            0.105244"
      ]
     },
     "execution_count": 7,
     "metadata": {},
     "output_type": "execute_result"
    }
   ],
   "source": [
    "marg_fuels['2016-01-01':].groupby('FUEL_TYPE').sum()/(366*24)\n",
    "# marg_fuels.groupby('FUEL_TYPE').mean()"
   ]
  },
  {
   "cell_type": "markdown",
   "metadata": {},
   "source": [
    "## Convert dates to UTC "
   ]
  },
  {
   "cell_type": "code",
   "execution_count": 8,
   "metadata": {
    "collapsed": false
   },
   "outputs": [],
   "source": [
    "# Import some helper functions\n",
    "os.sys.path.insert(0, os.path.dirname(os.path.dirname(os.getcwd())))\n",
    "import date_helpers"
   ]
  },
  {
   "cell_type": "code",
   "execution_count": 9,
   "metadata": {
    "collapsed": false
   },
   "outputs": [],
   "source": [
    "# Convert dates to UTC and drop time zone column\n",
    "marg_fuels = date_helpers.get_df_dates_tz_to_utc(marg_fuels)\n",
    "marg_fuels.drop('tz', axis=1, inplace=True)"
   ]
  },
  {
   "cell_type": "code",
   "execution_count": 10,
   "metadata": {
    "collapsed": false
   },
   "outputs": [],
   "source": [
    "# actually in UTC-5\n",
    "marg_fuels.index = marg_fuels.index + timedelta(hours=-5)"
   ]
  },
  {
   "cell_type": "markdown",
   "metadata": {},
   "source": [
    "## Create vector of fuel proportions "
   ]
  },
  {
   "cell_type": "markdown",
   "metadata": {},
   "source": [
    "Convert formatting so that there is one row associated with each hour, and columns indicate marginal fuel proportions."
   ]
  },
  {
   "cell_type": "code",
   "execution_count": 11,
   "metadata": {
    "collapsed": true
   },
   "outputs": [],
   "source": [
    "# Turn each row into a vector with the appropriate proportion in the approportiate fuel column (and 0s elsewhere)\n",
    "marg_fuels = pd.get_dummies(marg_fuels['FUEL_TYPE']).multiply(marg_fuels['PERCENT_MARGINAL'], axis=0)\n",
    "\n",
    "# Sum all vectors belonging to the same date\n",
    "marg_fuels = marg_fuels.groupby(marg_fuels.index).sum()"
   ]
  },
  {
   "cell_type": "markdown",
   "metadata": {},
   "source": [
    "## Fix proportion sums "
   ]
  },
  {
   "cell_type": "code",
   "execution_count": 12,
   "metadata": {
    "collapsed": true
   },
   "outputs": [],
   "source": [
    "# Get proportion sums for each hour\n",
    "sums = marg_fuels.sum(axis=1)"
   ]
  },
  {
   "cell_type": "code",
   "execution_count": 13,
   "metadata": {
    "collapsed": false
   },
   "outputs": [
    {
     "data": {
      "text/html": [
       "<div>\n",
       "<style scoped>\n",
       "    .dataframe tbody tr th:only-of-type {\n",
       "        vertical-align: middle;\n",
       "    }\n",
       "\n",
       "    .dataframe tbody tr th {\n",
       "        vertical-align: top;\n",
       "    }\n",
       "\n",
       "    .dataframe thead th {\n",
       "        text-align: right;\n",
       "    }\n",
       "</style>\n",
       "<table border=\"1\" class=\"dataframe\">\n",
       "  <thead>\n",
       "    <tr style=\"text-align: right;\">\n",
       "      <th></th>\n",
       "      <th>Coal</th>\n",
       "      <th>Diesel</th>\n",
       "      <th>Heavy Oil</th>\n",
       "      <th>Kerosene</th>\n",
       "      <th>Land Fill Gas</th>\n",
       "      <th>Light Oil</th>\n",
       "      <th>Min Gen/Dispatch Reset</th>\n",
       "      <th>Misc</th>\n",
       "      <th>Missing Data</th>\n",
       "      <th>Municipal Waste</th>\n",
       "      <th>Natural Gas</th>\n",
       "      <th>Propane</th>\n",
       "      <th>Solar</th>\n",
       "      <th>Uranium</th>\n",
       "      <th>Waste Coal</th>\n",
       "      <th>Wind</th>\n",
       "    </tr>\n",
       "    <tr>\n",
       "      <th>DATE_UTC</th>\n",
       "      <th></th>\n",
       "      <th></th>\n",
       "      <th></th>\n",
       "      <th></th>\n",
       "      <th></th>\n",
       "      <th></th>\n",
       "      <th></th>\n",
       "      <th></th>\n",
       "      <th></th>\n",
       "      <th></th>\n",
       "      <th></th>\n",
       "      <th></th>\n",
       "      <th></th>\n",
       "      <th></th>\n",
       "      <th></th>\n",
       "      <th></th>\n",
       "    </tr>\n",
       "  </thead>\n",
       "  <tbody>\n",
       "  </tbody>\n",
       "</table>\n",
       "</div>"
      ],
      "text/plain": [
       "Empty DataFrame\n",
       "Columns: [Coal, Diesel, Heavy Oil, Kerosene, Land Fill Gas, Light Oil, Min Gen/Dispatch Reset, Misc, Missing Data, Municipal Waste, Natural Gas, Propane, Solar, Uranium, Waste Coal, Wind]\n",
       "Index: []"
      ]
     },
     "execution_count": 13,
     "metadata": {},
     "output_type": "execute_result"
    }
   ],
   "source": [
    "# Check if all sums fall within a reasonable range (close to 1). They all do.\n",
    "marg_fuels[(sums < 0.999) | (sums > 1.001)]"
   ]
  },
  {
   "cell_type": "code",
   "execution_count": 14,
   "metadata": {
    "collapsed": false
   },
   "outputs": [
    {
     "name": "stdout",
     "output_type": "stream",
     "text": [
      "3477/17544 rows do not sum to exactly 1\n"
     ]
    }
   ],
   "source": [
    "# However, many sums are not exactly 1, so we need to normalize.\n",
    "print('{}/{} rows do not sum to exactly 1'.format(len(sums[sums != 1]), len(marg_fuels)))"
   ]
  },
  {
   "cell_type": "code",
   "execution_count": 15,
   "metadata": {
    "collapsed": false
   },
   "outputs": [],
   "source": [
    "# Normalize values to get more values to sum to exactly 1\n",
    "marg_fuels2 = marg_fuels.divide(sums, axis=0)"
   ]
  },
  {
   "cell_type": "markdown",
   "metadata": {},
   "source": [
    "## Bin marginal fuels"
   ]
  },
  {
   "cell_type": "markdown",
   "metadata": {},
   "source": [
    "Since there are so many fuel types, we bin similar fuels (or infrequent fuels) together. "
   ]
  },
  {
   "cell_type": "code",
   "execution_count": 16,
   "metadata": {
    "collapsed": true
   },
   "outputs": [],
   "source": [
    "# Map of fuels from current name to bin name\n",
    "fuel_map = {'Coal':'Coal', 'Natural Gas':'Natural Gas', 'Wind':'Wind', 'Light Oil':'Petroleum', \n",
    "                 'Land Fill Gas':'Land Fill Gas', 'Nuclear':'Nuclear', 'Waste Coal':'Coal', \n",
    "                 'Misc':'Other', 'Uranium':'Other', 'Heavy Oil':'Petroleum',\n",
    "                 'Kerosene':'Petroleum', 'Diesel':'Petroleum', 'Municipal Waste':'Other', \n",
    "                 'Interface':'Other', 'Battery':'Other', 'Min Gen/Dispatch Reset':'Other', \n",
    "                 'Missing Data':'Other', 'Solar':'Other','Demand Response':'Other', \n",
    "                 'Hydro':'Other', 'Virtual Sale At Ny':'Other', 'Virtual Sale At Miso':'Other', \n",
    "                 'Biomass': 'Other', 'Propane':'Natural Gas'}"
   ]
  },
  {
   "cell_type": "code",
   "execution_count": 17,
   "metadata": {
    "collapsed": true
   },
   "outputs": [],
   "source": [
    "marg_fuels_binned = marg_fuels2.copy()\n",
    "marg_fuels_binned.columns = marg_fuels_binned.columns.map(lambda x: fuel_map[x])\n",
    "marg_fuels_binned = marg_fuels_binned.groupby(marg_fuels_binned.columns, axis=1).sum()"
   ]
  },
  {
   "cell_type": "markdown",
   "metadata": {
    "collapsed": false
   },
   "source": [
    "## Check data "
   ]
  },
  {
   "cell_type": "code",
   "execution_count": 18,
   "metadata": {
    "collapsed": true
   },
   "outputs": [],
   "source": [
    "%matplotlib inline"
   ]
  },
  {
   "cell_type": "code",
   "execution_count": 19,
   "metadata": {
    "collapsed": false
   },
   "outputs": [
    {
     "data": {
      "text/html": [
       "<div>\n",
       "<style scoped>\n",
       "    .dataframe tbody tr th:only-of-type {\n",
       "        vertical-align: middle;\n",
       "    }\n",
       "\n",
       "    .dataframe tbody tr th {\n",
       "        vertical-align: top;\n",
       "    }\n",
       "\n",
       "    .dataframe thead th {\n",
       "        text-align: right;\n",
       "    }\n",
       "</style>\n",
       "<table border=\"1\" class=\"dataframe\">\n",
       "  <thead>\n",
       "    <tr style=\"text-align: right;\">\n",
       "      <th></th>\n",
       "      <th>Coal</th>\n",
       "      <th>Land Fill Gas</th>\n",
       "      <th>Natural Gas</th>\n",
       "      <th>Other</th>\n",
       "      <th>Petroleum</th>\n",
       "      <th>Wind</th>\n",
       "    </tr>\n",
       "    <tr>\n",
       "      <th>DATE_UTC</th>\n",
       "      <th></th>\n",
       "      <th></th>\n",
       "      <th></th>\n",
       "      <th></th>\n",
       "      <th></th>\n",
       "      <th></th>\n",
       "    </tr>\n",
       "  </thead>\n",
       "  <tbody>\n",
       "    <tr>\n",
       "      <th>2016-01-01 00:00:00+00:00</th>\n",
       "      <td>0.2353</td>\n",
       "      <td>0.0</td>\n",
       "      <td>0.4706</td>\n",
       "      <td>0.0</td>\n",
       "      <td>0.0</td>\n",
       "      <td>0.2941</td>\n",
       "    </tr>\n",
       "    <tr>\n",
       "      <th>2016-01-01 01:00:00+00:00</th>\n",
       "      <td>0.0000</td>\n",
       "      <td>0.0</td>\n",
       "      <td>0.8000</td>\n",
       "      <td>0.0</td>\n",
       "      <td>0.0</td>\n",
       "      <td>0.2000</td>\n",
       "    </tr>\n",
       "    <tr>\n",
       "      <th>2016-01-01 02:00:00+00:00</th>\n",
       "      <td>0.0000</td>\n",
       "      <td>0.0</td>\n",
       "      <td>0.5714</td>\n",
       "      <td>0.0</td>\n",
       "      <td>0.0</td>\n",
       "      <td>0.4286</td>\n",
       "    </tr>\n",
       "    <tr>\n",
       "      <th>2016-01-01 03:00:00+00:00</th>\n",
       "      <td>0.0000</td>\n",
       "      <td>0.0</td>\n",
       "      <td>0.8000</td>\n",
       "      <td>0.0</td>\n",
       "      <td>0.0</td>\n",
       "      <td>0.2000</td>\n",
       "    </tr>\n",
       "    <tr>\n",
       "      <th>2016-01-01 04:00:00+00:00</th>\n",
       "      <td>0.0000</td>\n",
       "      <td>0.0</td>\n",
       "      <td>0.6316</td>\n",
       "      <td>0.0</td>\n",
       "      <td>0.0</td>\n",
       "      <td>0.3684</td>\n",
       "    </tr>\n",
       "  </tbody>\n",
       "</table>\n",
       "</div>"
      ],
      "text/plain": [
       "                             Coal  Land Fill Gas  Natural Gas  Other  \\\n",
       "DATE_UTC                                                               \n",
       "2016-01-01 00:00:00+00:00  0.2353            0.0       0.4706    0.0   \n",
       "2016-01-01 01:00:00+00:00  0.0000            0.0       0.8000    0.0   \n",
       "2016-01-01 02:00:00+00:00  0.0000            0.0       0.5714    0.0   \n",
       "2016-01-01 03:00:00+00:00  0.0000            0.0       0.8000    0.0   \n",
       "2016-01-01 04:00:00+00:00  0.0000            0.0       0.6316    0.0   \n",
       "\n",
       "                           Petroleum    Wind  \n",
       "DATE_UTC                                      \n",
       "2016-01-01 00:00:00+00:00        0.0  0.2941  \n",
       "2016-01-01 01:00:00+00:00        0.0  0.2000  \n",
       "2016-01-01 02:00:00+00:00        0.0  0.4286  \n",
       "2016-01-01 03:00:00+00:00        0.0  0.2000  \n",
       "2016-01-01 04:00:00+00:00        0.0  0.3684  "
      ]
     },
     "execution_count": 19,
     "metadata": {},
     "output_type": "execute_result"
    }
   ],
   "source": [
    "marg_fuels_binned.head()"
   ]
  },
  {
   "cell_type": "code",
   "execution_count": 20,
   "metadata": {
    "collapsed": false
   },
   "outputs": [
    {
     "data": {
      "text/html": [
       "<div>\n",
       "<style scoped>\n",
       "    .dataframe tbody tr th:only-of-type {\n",
       "        vertical-align: middle;\n",
       "    }\n",
       "\n",
       "    .dataframe tbody tr th {\n",
       "        vertical-align: top;\n",
       "    }\n",
       "\n",
       "    .dataframe thead th {\n",
       "        text-align: right;\n",
       "    }\n",
       "</style>\n",
       "<table border=\"1\" class=\"dataframe\">\n",
       "  <thead>\n",
       "    <tr style=\"text-align: right;\">\n",
       "      <th></th>\n",
       "      <th>Coal</th>\n",
       "      <th>Land Fill Gas</th>\n",
       "      <th>Natural Gas</th>\n",
       "      <th>Other</th>\n",
       "      <th>Petroleum</th>\n",
       "      <th>Wind</th>\n",
       "    </tr>\n",
       "    <tr>\n",
       "      <th>DATE_UTC</th>\n",
       "      <th></th>\n",
       "      <th></th>\n",
       "      <th></th>\n",
       "      <th></th>\n",
       "      <th></th>\n",
       "      <th></th>\n",
       "    </tr>\n",
       "  </thead>\n",
       "  <tbody>\n",
       "    <tr>\n",
       "      <th>2017-12-31 19:00:00+00:00</th>\n",
       "      <td>0.434800</td>\n",
       "      <td>0.0</td>\n",
       "      <td>0.521700</td>\n",
       "      <td>0.0</td>\n",
       "      <td>0.043500</td>\n",
       "      <td>0.0</td>\n",
       "    </tr>\n",
       "    <tr>\n",
       "      <th>2017-12-31 20:00:00+00:00</th>\n",
       "      <td>0.478300</td>\n",
       "      <td>0.0</td>\n",
       "      <td>0.521700</td>\n",
       "      <td>0.0</td>\n",
       "      <td>0.000000</td>\n",
       "      <td>0.0</td>\n",
       "    </tr>\n",
       "    <tr>\n",
       "      <th>2017-12-31 21:00:00+00:00</th>\n",
       "      <td>0.480000</td>\n",
       "      <td>0.0</td>\n",
       "      <td>0.480000</td>\n",
       "      <td>0.0</td>\n",
       "      <td>0.040000</td>\n",
       "      <td>0.0</td>\n",
       "    </tr>\n",
       "    <tr>\n",
       "      <th>2017-12-31 22:00:00+00:00</th>\n",
       "      <td>0.478252</td>\n",
       "      <td>0.0</td>\n",
       "      <td>0.434757</td>\n",
       "      <td>0.0</td>\n",
       "      <td>0.086991</td>\n",
       "      <td>0.0</td>\n",
       "    </tr>\n",
       "    <tr>\n",
       "      <th>2017-12-31 23:00:00+00:00</th>\n",
       "      <td>0.458300</td>\n",
       "      <td>0.0</td>\n",
       "      <td>0.500000</td>\n",
       "      <td>0.0</td>\n",
       "      <td>0.041700</td>\n",
       "      <td>0.0</td>\n",
       "    </tr>\n",
       "  </tbody>\n",
       "</table>\n",
       "</div>"
      ],
      "text/plain": [
       "                               Coal  Land Fill Gas  Natural Gas  Other  \\\n",
       "DATE_UTC                                                                 \n",
       "2017-12-31 19:00:00+00:00  0.434800            0.0     0.521700    0.0   \n",
       "2017-12-31 20:00:00+00:00  0.478300            0.0     0.521700    0.0   \n",
       "2017-12-31 21:00:00+00:00  0.480000            0.0     0.480000    0.0   \n",
       "2017-12-31 22:00:00+00:00  0.478252            0.0     0.434757    0.0   \n",
       "2017-12-31 23:00:00+00:00  0.458300            0.0     0.500000    0.0   \n",
       "\n",
       "                           Petroleum  Wind  \n",
       "DATE_UTC                                    \n",
       "2017-12-31 19:00:00+00:00   0.043500   0.0  \n",
       "2017-12-31 20:00:00+00:00   0.000000   0.0  \n",
       "2017-12-31 21:00:00+00:00   0.040000   0.0  \n",
       "2017-12-31 22:00:00+00:00   0.086991   0.0  \n",
       "2017-12-31 23:00:00+00:00   0.041700   0.0  "
      ]
     },
     "execution_count": 20,
     "metadata": {},
     "output_type": "execute_result"
    }
   ],
   "source": [
    "marg_fuels_binned.tail()"
   ]
  },
  {
   "cell_type": "code",
   "execution_count": 21,
   "metadata": {
    "collapsed": false
   },
   "outputs": [
    {
     "name": "stderr",
     "output_type": "stream",
     "text": [
      "/Users/priyadonti/anaconda2/envs/py35/lib/python3.5/site-packages/pandas/core/arrays/datetimes.py:1172: UserWarning: Converting to PeriodArray/Index representation will drop timezone information.\n",
      "  \"will drop timezone information.\", UserWarning)\n"
     ]
    },
    {
     "data": {
      "image/png": "[encoded data removed]",
      "text/plain": [
       "<matplotlib.figure.Figure at 0x109811f28>"
      ]
     },
     "metadata": {},
     "output_type": "display_data"
    }
   ],
   "source": [
    "# All sums should be about 1. Looks good.\n",
    "marg_fuels_binned.sum(axis=1).plot();"
   ]
  }
 ],
 "metadata": {
  "anaconda-cloud": {},
  "kernelspec": {
   "display_name": "py35",
   "language": "python",
   "name": "py35"
  },
  "language_info": {
   "codemirror_mode": {
    "name": "ipython",
    "version": 3
   },
   "file_extension": ".py",
   "mimetype": "text/x-python",
   "name": "python",
   "nbconvert_exporter": "python",
   "pygments_lexer": "ipython3",
   "version": "3.5.2"
  }
 },
 "nbformat": 4,
 "nbformat_minor": 1
}
